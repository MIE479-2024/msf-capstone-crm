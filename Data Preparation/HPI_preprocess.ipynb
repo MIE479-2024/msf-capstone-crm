{
 "cells": [
  {
   "cell_type": "code",
   "execution_count": 3,
   "id": "d6b19708-20e8-4915-9958-8953d11d5fb5",
   "metadata": {},
   "outputs": [],
   "source": [
    "import pandas as pd\n",
    "import numpy as np\n",
    "import csv"
   ]
  },
  {
   "cell_type": "code",
   "execution_count": null,
   "id": "2c2533ce-c313-4436-93b1-9c996906ae0f",
   "metadata": {},
   "outputs": [],
   "source": [
    "table = pd.read_csv('hpi_raw.csv')\n",
    "table['YearQuarter'] = table['Year'].astype(str) + 'Q' + table['Quarter'].astype(str)\n",
    "\n",
    "pivot_table = table.pivot(index='Three-Digit ZIP Code', columns='YearQuarter', values='Index (NSA)')\n",
    "\n",
    "# Sort the columns to maintain chronological order\n",
    "pivot_table = pivot_table.reindex(sorted(pivot_table.columns), axis=1)\n",
    "\n",
    "pivot_table.reset_index(inplace=True)\n",
    "pivot_table.to_csv('HPI_reformat.csv', index=False)"
   ]
  },
  {
   "cell_type": "code",
   "execution_count": 6,
   "id": "6d42f140-59aa-47d8-b621-a8f8e4c59dc7",
   "metadata": {},
   "outputs": [
    {
     "name": "stdout",
     "output_type": "stream",
     "text": [
      "Zip Codes not available in HPI:\n",
      "[np.float64(7.0), np.float64(8.0), np.float64(9.0), np.float64(102.0), np.float64(865.0), np.float64(nan), np.float64(969.0)]\n"
     ]
    }
   ],
   "source": [
    "stat_df = pd.read_csv('2020_stat.csv')\n",
    "sorted_zip = sorted(stat_df['ZIP'].unique())\n",
    "\n",
    "index_df = pd.read_csv('HPI_reformat.csv')\n",
    "index_zip = index_df['Three-Digit ZIP Code'].unique()\n",
    "\n",
    "missing_zip = set(sorted_zip) - set(index_zip)\n",
    "\n",
    "if missing_zip:\n",
    "    print(\"Zip Codes not available in HPI:\")\n",
    "    print(sorted(missing_zip))"
   ]
  }
 ],
 "metadata": {
  "kernelspec": {
   "display_name": "Python 3 (ipykernel)",
   "language": "python",
   "name": "python3"
  },
  "language_info": {
   "codemirror_mode": {
    "name": "ipython",
    "version": 3
   },
   "file_extension": ".py",
   "mimetype": "text/x-python",
   "name": "python",
   "nbconvert_exporter": "python",
   "pygments_lexer": "ipython3",
   "version": "3.12.6"
  }
 },
 "nbformat": 4,
 "nbformat_minor": 5
}
