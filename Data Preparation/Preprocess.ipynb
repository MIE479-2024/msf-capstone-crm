{
 "cells": [
  {
   "cell_type": "code",
   "execution_count": 1,
   "id": "5facf4f9-313c-4664-8ecc-4d09a2e7e831",
   "metadata": {},
   "outputs": [],
   "source": [
    "import pandas as pd\n",
    "import numpy as np\n",
    "import os\n",
    "import prepare_func"
   ]
  },
  {
   "cell_type": "code",
   "execution_count": 2,
   "id": "71b7f854-4d7d-4783-a0a8-22b395eeef29",
   "metadata": {},
   "outputs": [
    {
     "name": "stdout",
     "output_type": "stream",
     "text": [
      "2021Q1_stat.csv\n"
     ]
    },
    {
     "name": "stderr",
     "output_type": "stream",
     "text": [
      "C:\\Users\\Oreki\\OneDrive\\文档\\JupyterLab\\MIE479\\Data Preparation\\prepare_func.py:534: FutureWarning: Downcasting behavior in `replace` is deprecated and will be removed in a future version. To retain the old behavior, explicitly call `result.infer_objects(copy=False)`. To opt-in to the future behavior, set `pd.set_option('future.no_silent_downcasting', True)`\n",
      "  table['FTHB_FLAG'] = table['FTHB_FLAG'].replace({'Y': 1, 'N': 0})\n"
     ]
    },
    {
     "name": "stdout",
     "output_type": "stream",
     "text": [
      "2021Q2_stat.csv\n"
     ]
    },
    {
     "name": "stderr",
     "output_type": "stream",
     "text": [
      "C:\\Users\\Oreki\\OneDrive\\文档\\JupyterLab\\MIE479\\Data Preparation\\prepare_func.py:534: FutureWarning: Downcasting behavior in `replace` is deprecated and will be removed in a future version. To retain the old behavior, explicitly call `result.infer_objects(copy=False)`. To opt-in to the future behavior, set `pd.set_option('future.no_silent_downcasting', True)`\n",
      "  table['FTHB_FLAG'] = table['FTHB_FLAG'].replace({'Y': 1, 'N': 0})\n"
     ]
    },
    {
     "name": "stdout",
     "output_type": "stream",
     "text": [
      "2021Q3_stat.csv\n"
     ]
    },
    {
     "name": "stderr",
     "output_type": "stream",
     "text": [
      "C:\\Users\\Oreki\\OneDrive\\文档\\JupyterLab\\MIE479\\Data Preparation\\prepare_func.py:534: FutureWarning: Downcasting behavior in `replace` is deprecated and will be removed in a future version. To retain the old behavior, explicitly call `result.infer_objects(copy=False)`. To opt-in to the future behavior, set `pd.set_option('future.no_silent_downcasting', True)`\n",
      "  table['FTHB_FLAG'] = table['FTHB_FLAG'].replace({'Y': 1, 'N': 0})\n"
     ]
    },
    {
     "name": "stdout",
     "output_type": "stream",
     "text": [
      "2021Q4_stat.csv\n"
     ]
    },
    {
     "name": "stderr",
     "output_type": "stream",
     "text": [
      "C:\\Users\\Oreki\\OneDrive\\文档\\JupyterLab\\MIE479\\Data Preparation\\prepare_func.py:534: FutureWarning: Downcasting behavior in `replace` is deprecated and will be removed in a future version. To retain the old behavior, explicitly call `result.infer_objects(copy=False)`. To opt-in to the future behavior, set `pd.set_option('future.no_silent_downcasting', True)`\n",
      "  table['FTHB_FLAG'] = table['FTHB_FLAG'].replace({'Y': 1, 'N': 0})\n"
     ]
    },
    {
     "name": "stdout",
     "output_type": "stream",
     "text": [
      "Number of rows: 4782092\n",
      "Number of columns: 48\n",
      "30-day delinquency percentage: 8.1 %\n",
      "The total number of NA is  0\n",
      "No duplicated Loan_ID\n"
     ]
    }
   ],
   "source": [
    "file_year = '2021'\n",
    "year_table = pd.DataFrame()\n",
    "\n",
    "for i in range (1, 5):\n",
    "    \n",
    "    file_name = f\"{file_year}Q{i}_stat.csv\"\n",
    "    print (file_name)\n",
    "    quarter_table = prepare_func.preprocess(pd.read_csv(file_name, low_memory=False))\n",
    "    \n",
    "    if year_table.empty:\n",
    "        year_table = quarter_table\n",
    "    else:\n",
    "        year_table = pd.concat([year_table, quarter_table], ignore_index=True)\n",
    "\n",
    "\n",
    "n_row, n_col = year_table.shape\n",
    "n_dlq_30 = sum(year_table['DLQ_30_FLAG'])\n",
    "print(f\"Number of rows: {n_row}\")\n",
    "print(f\"Number of columns: {n_col}\")\n",
    "print(f\"30-day delinquency percentage: {round(n_dlq_30 / n_row * 100, 2)} %\")\n",
    "\n",
    "print(\"The total number of NA is \", sum(year_table.isna().sum()))\n",
    "\n",
    "duplicates = year_table['LOAN_ID'][year_table['LOAN_ID'].duplicated()]\n",
    "if not duplicates.empty:\n",
    "    print(duplicates.unique())\n",
    "else:\n",
    "    print(\"No duplicated Loan_ID\")"
   ]
  },
  {
   "cell_type": "code",
   "execution_count": 3,
   "id": "661b7731-db7c-4e7f-8f1c-9bbdcca4eb93",
   "metadata": {},
   "outputs": [],
   "source": [
    "output = f\"{file_year}_stat.csv\"\n",
    "year_table.to_csv(output, sep=\",\", na_rep=\"NULL\", float_format='%.2f', index=False, quoting=1)\n",
    "\n",
    "del year_table, quarter_table"
   ]
  }
 ],
 "metadata": {
  "kernelspec": {
   "display_name": "Python 3 (ipykernel)",
   "language": "python",
   "name": "python3"
  },
  "language_info": {
   "codemirror_mode": {
    "name": "ipython",
    "version": 3
   },
   "file_extension": ".py",
   "mimetype": "text/x-python",
   "name": "python",
   "nbconvert_exporter": "python",
   "pygments_lexer": "ipython3",
   "version": "3.12.6"
  }
 },
 "nbformat": 4,
 "nbformat_minor": 5
}
