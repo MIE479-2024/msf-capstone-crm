{
 "cells": [
  {
   "cell_type": "code",
   "execution_count": 1,
   "id": "5132b154-511a-4d35-8002-e641fd8760db",
   "metadata": {},
   "outputs": [],
   "source": [
    "import csv"
   ]
  },
  {
   "cell_type": "code",
   "execution_count": 2,
   "id": "27aabada-03d6-4616-9fc1-5ba3e8a099ce",
   "metadata": {},
   "outputs": [],
   "source": [
    "def compare_csv_files(file1, file2, output_file):\n",
    "    \n",
    "    differing_rows = []\n",
    "    difference_count = 0\n",
    "\n",
    "    try:\n",
    "        with open(file1, 'r', newline='') as f1, open(file2, 'r', newline='') as f2:\n",
    "            reader1 = csv.reader(f1)\n",
    "            reader2 = csv.reader(f2)\n",
    "            \n",
    "            # Read and compare each row from both files\n",
    "            for row_num, (row1, row2) in enumerate(zip(reader1, reader2), start=1):\n",
    "                if row1 != row2:\n",
    "                    differing_rows.append([row_num, row1, row2])  # Store row number and both rows\n",
    "                    difference_count += 1\n",
    "\n",
    "            # Check if one file has extra rows\n",
    "            remaining_rows1 = list(reader1)\n",
    "            remaining_rows2 = list(reader2)\n",
    "            if remaining_rows1 or remaining_rows2:\n",
    "                # There are extra rows in one of the files\n",
    "                max_rows = max(len(remaining_rows1), len(remaining_rows2))\n",
    "                for i in range(max_rows):\n",
    "                    row1 = remaining_rows1[i] if i < len(remaining_rows1) else None\n",
    "                    row2 = remaining_rows2[i] if i < len(remaining_rows2) else None\n",
    "                    differing_rows.append([row_num + i + 1, row1, row2])\n",
    "                    difference_count += 1\n",
    "\n",
    "        # Output the differing rows to a new CSV file\n",
    "        if differing_rows:\n",
    "            with open(output_file, 'w', newline='') as f_out:\n",
    "                writer = csv.writer(f_out)\n",
    "                writer.writerows(differing_rows)\n",
    "        \n",
    "        if difference_count == 0:\n",
    "            print(\"The CSV files are exactly the same.\")\n",
    "        else:\n",
    "            print(f\"Found {difference_count} differing rows. Differences saved in {output_file}.\")\n",
    "        \n",
    "        return difference_count\n",
    "    \n",
    "    except FileNotFoundError as e:\n",
    "        print(f\"Error: {e}\")\n",
    "        return -1\n"
   ]
  },
  {
   "cell_type": "code",
   "execution_count": 7,
   "id": "d780a575-d88e-4075-8f03-54c45a9e959f",
   "metadata": {},
   "outputs": [
    {
     "name": "stdout",
     "output_type": "stream",
     "text": [
      "Found 1 differing rows. Differences saved in 2023Q4_check.csv.\n"
     ]
    },
    {
     "data": {
      "text/plain": [
       "1"
      ]
     },
     "execution_count": 7,
     "metadata": {},
     "output_type": "execute_result"
    }
   ],
   "source": [
    "file1 = '2023Q4_stat_mine.csv'\n",
    "file2 = '2023Q4_stat.csv'\n",
    "output_file = '2023Q4_check.csv'\n",
    "\n",
    "compare_csv_files(file1, file2, output_file)"
   ]
  },
  {
   "cell_type": "code",
   "execution_count": null,
   "id": "ced71967-ed60-4d8c-b08b-570a470b80c5",
   "metadata": {},
   "outputs": [],
   "source": []
  }
 ],
 "metadata": {
  "kernelspec": {
   "display_name": "Python 3 (ipykernel)",
   "language": "python",
   "name": "python3"
  },
  "language_info": {
   "codemirror_mode": {
    "name": "ipython",
    "version": 3
   },
   "file_extension": ".py",
   "mimetype": "text/x-python",
   "name": "python",
   "nbconvert_exporter": "python",
   "pygments_lexer": "ipython3",
   "version": "3.12.6"
  }
 },
 "nbformat": 4,
 "nbformat_minor": 5
}
