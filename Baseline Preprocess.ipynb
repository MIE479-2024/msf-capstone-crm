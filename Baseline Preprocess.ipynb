{
 "cells": [
  {
   "cell_type": "code",
   "execution_count": 1,
   "id": "0e8e1071-1d48-493b-bdb8-0aaf5f4876d9",
   "metadata": {},
   "outputs": [],
   "source": [
    "import pandas as pd\n",
    "import numpy as np\n",
    "import os"
   ]
  },
  {
   "cell_type": "code",
   "execution_count": 2,
   "id": "a730e5fe-3f09-4dec-a297-8102643d25c2",
   "metadata": {},
   "outputs": [
    {
     "name": "stdout",
     "output_type": "stream",
     "text": [
      "Number of rows: 215934\n",
      "Number of columns: 74\n"
     ]
    }
   ],
   "source": [
    "file_name = '2023Q4_stat.csv'\n",
    "baseTable = pd.read_csv(file_name, low_memory=False)\n",
    "\n",
    "n_row, n_col = baseTable.shape\n",
    "print(f\"Number of rows: {n_row}\")\n",
    "print(f\"Number of columns: {n_col}\")\n"
   ]
  },
  {
   "cell_type": "code",
   "execution_count": 3,
   "id": "1e0afdb2-aa59-4221-9680-86cd8b90edd8",
   "metadata": {},
   "outputs": [
    {
     "name": "stdout",
     "output_type": "stream",
     "text": [
      "Number of rows: 133402\n",
      "Number of columns: 26\n"
     ]
    }
   ],
   "source": [
    "# LOAN_ID is kept as an identifier, will be removed later\n",
    "# AQSN_DTE is the same throughout the file\n",
    "\n",
    "bt1 = baseTable[[\n",
    "    'LOAN_ID', 'orig_rt', 'orig_amt', 'orig_trm', 'ocltv', 'num_bo', 'dti',\n",
    "    'CSCORE_B', 'FTHB_FLG', 'purpose', 'PROP_TYP', 'NUM_UNIT', 'occ_stat',\n",
    "    'mi_pct', 'CSCORE_C', 'MI_TYPE', 'AQSN_DTE', 'ORIG_DTE', 'FRST_DTE',\n",
    "    'F30_DTE', 'F60_DTE', 'F90_DTE', 'F120_DTE', 'F180_DTE', 'FCE_DTE'\n",
    "]].rename(columns={\n",
    "    'orig_rt': 'ORIG_RATE', 'orig_amt': 'ORIG_AMOUNT', 'orig_trm': 'ORIG_TERM',\n",
    "    'ocltv': 'OCLTV', 'num_bo': 'NUM_BO', 'dti': 'DTI', 'FTHB_FLG': 'FTHB_FLAG',\n",
    "    'purpose': 'PURPOSE', 'PROP_TYP': 'PROP_TYPE', 'occ_stat': 'OCC_STAT', 'mi_pct': 'MI_PCT'\n",
    "})\n",
    "\n",
    "\n",
    "bt1['AQSN_DTE'] = pd.to_datetime(bt1['AQSN_DTE'])\n",
    "bt1['ORIG_DTE'] = pd.to_datetime(bt1['ORIG_DTE'])\n",
    "bt1['FRST_DTE'] = pd.to_datetime(bt1['FRST_DTE'])\n",
    "bt1['F30_DTE'] = pd.to_datetime(bt1['F30_DTE'])\n",
    "bt1['F60_DTE'] = pd.to_datetime(bt1['F60_DTE'])\n",
    "bt1['F90_DTE'] = pd.to_datetime(bt1['F90_DTE'])\n",
    "bt1['F120_DTE'] = pd.to_datetime(bt1['F120_DTE'])\n",
    "bt1['F180_DTE'] = pd.to_datetime(bt1['F180_DTE'])\n",
    "bt1['FCE_DTE'] = pd.to_datetime(bt1['FCE_DTE'])\n",
    "\n",
    "# Origination date is at most two months earlier than acquisition date\n",
    "bt1['date_diff'] = (bt1['AQSN_DTE'] - bt1['ORIG_DTE']).dt.days\n",
    "bt1 = bt1[bt1['date_diff'] <= 70]\n",
    "n_row, n_col = bt1.shape\n",
    "print(f\"Number of rows: {n_row}\")\n",
    "print(f\"Number of columns: {n_col}\")\n"
   ]
  },
  {
   "cell_type": "code",
   "execution_count": 4,
   "id": "0e53f0a1-2040-43cb-a995-87cdd123450b",
   "metadata": {},
   "outputs": [
    {
     "name": "stdout",
     "output_type": "stream",
     "text": [
      "Number of rows: 133402\n",
      "Number of columns: 40\n"
     ]
    },
    {
     "name": "stderr",
     "output_type": "stream",
     "text": [
      "C:\\Users\\Oreki\\AppData\\Local\\Temp\\ipykernel_16164\\2631749583.py:4: FutureWarning: Downcasting behavior in `replace` is deprecated and will be removed in a future version. To retain the old behavior, explicitly call `result.infer_objects(copy=False)`. To opt-in to the future behavior, set `pd.set_option('future.no_silent_downcasting', True)`\n",
      "  bt2['FTHB_FLAG'] = bt2['FTHB_FLAG'].replace({'Y': 1, 'N': 0})\n"
     ]
    }
   ],
   "source": [
    "bt2 = bt1\n",
    "del baseTable\n",
    "\n",
    "bt2['FTHB_FLAG'] = bt2['FTHB_FLAG'].replace({'Y': 1, 'N': 0})\n",
    "\n",
    "# Check Glossary #27\n",
    "bt2['PUR_Cash_out'] = (bt2['PURPOSE'] == 'C').astype(int)\n",
    "bt2['PUR_Refinance'] = (bt2['PURPOSE'] == 'R').astype(int)\n",
    "bt2['PUR_Purchase'] = (bt2['PURPOSE'] == 'P').astype(int)\n",
    "# Check Glossary #28\n",
    "bt2['PRO_Condominium'] = (bt2['PROP_TYPE'] == 'CO').astype(int)\n",
    "bt2['PRO_Co_operative'] = (bt2['PROP_TYPE'] == 'CP').astype(int)\n",
    "bt2['PRO_Planned_Urban'] = (bt2['PROP_TYPE'] == 'PU').astype(int)\n",
    "bt2['PRO_Manufact_Home'] = (bt2['PROP_TYPE'] == 'MH').astype(int)\n",
    "bt2['PRO_Single_Family'] = (bt2['PROP_TYPE'] == 'SF').astype(int)\n",
    "# Check Glossary #30\n",
    "bt2['OCC_Principal'] = (bt2['OCC_STAT'] == 'P').astype(int)\n",
    "bt2['OCC_Second'] = (bt2['OCC_STAT'] == 'S').astype(int)\n",
    "bt2['OCC_Investor'] = (bt2['OCC_STAT'] == 'I').astype(int)\n",
    "\n",
    "bt2['MI_PCT'] = bt2['MI_PCT'].fillna(0)\n",
    "# Check Glossary #73\n",
    "bt2['MI_Borrower'] = (bt2['MI_TYPE'] == 'BPMI').astype(int)\n",
    "bt2['MI_Lender'] = (bt2['MI_TYPE'] == 'LPMI').astype(int)\n",
    "bt2['MI_Investor'] = (bt2['MI_TYPE'] == 'IPMI').astype(int)  # seems trivial\n",
    "\n",
    "# If there is no co-borrower, CSCORE_C is set to be same as CSCORE_B\n",
    "bt2['CSCORE_C'] = bt2['CSCORE_C'].fillna(bt2['CSCORE_B'])\n",
    "\n",
    "n_row, n_col = bt2.shape\n",
    "print(f\"Number of rows: {n_row}\")\n",
    "print(f\"Number of columns: {n_col}\")"
   ]
  },
  {
   "cell_type": "code",
   "execution_count": 5,
   "id": "a0e4d21e-1d8d-4972-8342-413b0eb92bb4",
   "metadata": {},
   "outputs": [
    {
     "name": "stdout",
     "output_type": "stream",
     "text": [
      "2         0\n",
      "4         0\n",
      "10        0\n",
      "11        0\n",
      "14        0\n",
      "         ..\n",
      "215929    0\n",
      "215930    0\n",
      "215931    0\n",
      "215932    0\n",
      "215933    0\n",
      "Name: DLQ_FLAG, Length: 133402, dtype: int64\n"
     ]
    }
   ],
   "source": [
    "bt2['DLQ_FLAG'] = bt2[['F30_DTE', 'F60_DTE', 'F90_DTE', 'F120_DTE', 'F180_DTE', 'FCE_DTE']].notna().any(axis=1).astype(int)\n",
    "print(bt2['DLQ_FLAG'])"
   ]
  },
  {
   "cell_type": "code",
   "execution_count": 9,
   "id": "b0055744-2935-49c8-9362-0075a6896b76",
   "metadata": {},
   "outputs": [],
   "source": [
    "# Select and reorder columns\n",
    "bt3 = bt2[[\n",
    "    'LOAN_ID', 'ORIG_RATE', 'ORIG_AMOUNT', 'ORIG_TERM', 'OCLTV', 'NUM_BO', 'DTI', 'CSCORE_B', 'CSCORE_C',\n",
    "    'FTHB_FLAG', 'PUR_Cash_out', 'PUR_Refinance', 'PUR_Purchase', 'PRO_Condominium', 'PRO_Co_operative',\n",
    "    'PRO_Planned_Urban', 'PRO_Manufact_Home', 'PRO_Single_Family', 'NUM_UNIT', 'OCC_Principal', 'OCC_Second', \n",
    "    'OCC_Investor', 'MI_PCT', 'MI_Borrower', 'MI_Lender', 'MI_Investor', 'AQSN_DTE', 'ORIG_DTE', 'FRST_DTE',\n",
    "    'DLQ_FLAG'\n",
    "]]\n",
    "\n",
    "del bt1\n",
    "\n",
    "output = f\"Preprocessed_{file_name}\"\n",
    "bt3.to_csv(output, sep=\",\", na_rep=\"NULL\", float_format='%.2f', index=False, quoting=1)\n"
   ]
  },
  {
   "cell_type": "code",
   "execution_count": null,
   "id": "235ade27-28cf-4774-8084-a4fdd787ff6b",
   "metadata": {},
   "outputs": [],
   "source": []
  }
 ],
 "metadata": {
  "kernelspec": {
   "display_name": "Python 3 (ipykernel)",
   "language": "python",
   "name": "python3"
  },
  "language_info": {
   "codemirror_mode": {
    "name": "ipython",
    "version": 3
   },
   "file_extension": ".py",
   "mimetype": "text/x-python",
   "name": "python",
   "nbconvert_exporter": "python",
   "pygments_lexer": "ipython3",
   "version": "3.12.6"
  }
 },
 "nbformat": 4,
 "nbformat_minor": 5
}
