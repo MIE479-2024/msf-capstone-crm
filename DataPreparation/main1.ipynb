{
 "cells": [
  {
   "cell_type": "code",
   "execution_count": 1,
   "metadata": {},
   "outputs": [
    {
     "name": "stderr",
     "output_type": "stream",
     "text": [
      "/Users/mengyanzhu/anaconda3/lib/python3.11/site-packages/pandas/core/arrays/masked.py:60: UserWarning: Pandas requires version '1.3.6' or newer of 'bottleneck' (version '1.3.5' currently installed).\n",
      "  from pandas.core import (\n"
     ]
    }
   ],
   "source": [
    "import sys\n",
    "import pandas as pd\n",
    "\n",
    "\n",
    "sys.path.append('/Users/mengyanzhu/Documents/GitHub/msf-capstone-crm/DataPreparation')\n",
    "from importlib import reload  # Python 3.4+\n",
    "\n",
    "from NonWoE_preparation import preprocess_NoWoE as pN\n",
    "\n",
    "#reload(pN)\n"
   ]
  },
  {
   "cell_type": "code",
   "execution_count": 2,
   "metadata": {},
   "outputs": [
    {
     "name": "stdout",
     "output_type": "stream",
     "text": [
      "(CVXPY) Nov 30 04:16:00 PM: Encountered unexpected exception importing solver GLOP:\n",
      "RuntimeError('Unrecognized new version of ortools (9.11.4210). Expected < 9.10.0. Please open a feature request on cvxpy to enable support for this version.')\n",
      "(CVXPY) Nov 30 04:16:00 PM: Encountered unexpected exception importing solver PDLP:\n",
      "RuntimeError('Unrecognized new version of ortools (9.11.4210). Expected < 9.10.0. Please open a feature request on cvxpy to enable support for this version.')\n"
     ]
    }
   ],
   "source": [
    "from WoE_preparation import preprocess_WoE as pW\n"
   ]
  },
  {
   "cell_type": "code",
   "execution_count": 28,
   "metadata": {},
   "outputs": [
    {
     "name": "stdout",
     "output_type": "stream",
     "text": [
      "/Users/mengyanzhu/Documents/GitHub/msf-capstone-crm/dataset/2023Q1_stat.csv\n"
     ]
    },
    {
     "name": "stderr",
     "output_type": "stream",
     "text": [
      "/Users/mengyanzhu/Documents/GitHub/msf-capstone-crm/DataPreparation/NonWoE_preparation.py:638: FutureWarning: Downcasting behavior in `replace` is deprecated and will be removed in a future version. To retain the old behavior, explicitly call `result.infer_objects(copy=False)`. To opt-in to the future behavior, set `pd.set_option('future.no_silent_downcasting', True)`\n",
      "  table['FTHB_FLAG'] = table['FTHB_FLAG'].replace({'Y': 1, 'N': 0})\n"
     ]
    },
    {
     "name": "stdout",
     "output_type": "stream",
     "text": [
      "/Users/mengyanzhu/Documents/GitHub/msf-capstone-crm/dataset/2023Q2_stat.csv\n"
     ]
    },
    {
     "ename": "ParserError",
     "evalue": "Error tokenizing data. C error: Calling read(nbytes) on source failed. Try engine='python'.",
     "output_type": "error",
     "traceback": [
      "\u001b[0;31m---------------------------------------------------------------------------\u001b[0m",
      "\u001b[0;31mParserError\u001b[0m                               Traceback (most recent call last)",
      "Cell \u001b[0;32mIn[28], line 1\u001b[0m\n\u001b[0;32m----> 1\u001b[0m data \u001b[38;5;241m=\u001b[39m pN([\u001b[38;5;124m\"\u001b[39m\u001b[38;5;124m2023\u001b[39m\u001b[38;5;124m\"\u001b[39m], \u001b[38;5;28;01mTrue\u001b[39;00m)\n\u001b[1;32m      3\u001b[0m \u001b[38;5;28mprint\u001b[39m(\u001b[38;5;124m'\u001b[39m\u001b[38;5;124mhello\u001b[39m\u001b[38;5;124m'\u001b[39m)\n",
      "File \u001b[0;32m~/Documents/GitHub/msf-capstone-crm/DataPreparation/NonWoE_preparation.py:10\u001b[0m, in \u001b[0;36mpreprocess_NoWoE\u001b[0;34m(file_years, labelled)\u001b[0m\n\u001b[1;32m      8\u001b[0m \u001b[38;5;28;01mdef\u001b[39;00m \u001b[38;5;21mpreprocess_NoWoE\u001b[39m(file_years, labelled):\n\u001b[1;32m      9\u001b[0m     \u001b[38;5;66;03m#not sure how this works Preprocess.data_preparation(file_number)\u001b[39;00m\n\u001b[0;32m---> 10\u001b[0m     table\u001b[38;5;241m=\u001b[39m preprocess_data(file_years, labelled)\u001b[38;5;241m.\u001b[39mdropna()\n\u001b[1;32m     11\u001b[0m     \u001b[38;5;28;01mif\u001b[39;00m labelled:\n\u001b[1;32m     12\u001b[0m         \u001b[38;5;66;03m#table = pd.read_csv(file_name, low_memory=False).dropna()\u001b[39;00m\n\u001b[1;32m     14\u001b[0m         table \u001b[38;5;241m=\u001b[39m table[[\n\u001b[1;32m     15\u001b[0m             \u001b[38;5;124m'\u001b[39m\u001b[38;5;124mORIG_RATE\u001b[39m\u001b[38;5;124m'\u001b[39m, \u001b[38;5;124m'\u001b[39m\u001b[38;5;124mORIG_AMOUNT\u001b[39m\u001b[38;5;124m'\u001b[39m, \u001b[38;5;124m'\u001b[39m\u001b[38;5;124mORIG_TERM\u001b[39m\u001b[38;5;124m'\u001b[39m, \u001b[38;5;124m'\u001b[39m\u001b[38;5;124mOLTV\u001b[39m\u001b[38;5;124m'\u001b[39m, \u001b[38;5;124m'\u001b[39m\u001b[38;5;124mNUM_BO\u001b[39m\u001b[38;5;124m'\u001b[39m, \u001b[38;5;124m'\u001b[39m\u001b[38;5;124mDTI\u001b[39m\u001b[38;5;124m'\u001b[39m, \u001b[38;5;124m'\u001b[39m\u001b[38;5;124mCSCORE_B\u001b[39m\u001b[38;5;124m'\u001b[39m, \u001b[38;5;66;03m# 'CSCORE_C', \u001b[39;00m\n\u001b[1;32m     16\u001b[0m             \u001b[38;5;124m'\u001b[39m\u001b[38;5;124mFTHB_FLAG\u001b[39m\u001b[38;5;124m'\u001b[39m, \u001b[38;5;124m'\u001b[39m\u001b[38;5;124mPUR_Cash_out\u001b[39m\u001b[38;5;124m'\u001b[39m, \u001b[38;5;124m'\u001b[39m\u001b[38;5;124mPUR_Refinance\u001b[39m\u001b[38;5;124m'\u001b[39m, \u001b[38;5;124m'\u001b[39m\u001b[38;5;124mPUR_Purchase\u001b[39m\u001b[38;5;124m'\u001b[39m, \u001b[38;5;124m'\u001b[39m\u001b[38;5;124mNUM_UNIT\u001b[39m\u001b[38;5;124m'\u001b[39m, \n\u001b[1;32m     17\u001b[0m             \u001b[38;5;124m'\u001b[39m\u001b[38;5;124mOCC_Principal\u001b[39m\u001b[38;5;124m'\u001b[39m, \u001b[38;5;124m'\u001b[39m\u001b[38;5;124mOCC_Second\u001b[39m\u001b[38;5;124m'\u001b[39m, \u001b[38;5;124m'\u001b[39m\u001b[38;5;124mOCC_Investor\u001b[39m\u001b[38;5;124m'\u001b[39m, \u001b[38;5;124m'\u001b[39m\u001b[38;5;124mMI_PCT\u001b[39m\u001b[38;5;124m'\u001b[39m, \u001b[38;5;124m'\u001b[39m\u001b[38;5;124mDLQ_FLAG\u001b[39m\u001b[38;5;124m'\u001b[39m, \u001b[38;5;124m'\u001b[39m\u001b[38;5;124mOngoing\u001b[39m\u001b[38;5;124m'\u001b[39m, \n\u001b[1;32m     18\u001b[0m             \u001b[38;5;124m'\u001b[39m\u001b[38;5;124mCurrent_DLQ\u001b[39m\u001b[38;5;124m'\u001b[39m, \u001b[38;5;124m'\u001b[39m\u001b[38;5;124mPrepaid_Matured\u001b[39m\u001b[38;5;124m'\u001b[39m]]\n",
      "File \u001b[0;32m~/Documents/GitHub/msf-capstone-crm/DataPreparation/NonWoE_preparation.py:67\u001b[0m, in \u001b[0;36mpreprocess_data\u001b[0;34m(file_years, labelled)\u001b[0m\n\u001b[1;32m     65\u001b[0m \u001b[38;5;28mprint\u001b[39m (file_name)\n\u001b[1;32m     66\u001b[0m \u001b[38;5;28;01mif\u001b[39;00m labelled:\n\u001b[0;32m---> 67\u001b[0m     quarter_table \u001b[38;5;241m=\u001b[39m preprocess(pd\u001b[38;5;241m.\u001b[39mread_csv(file_name, low_memory\u001b[38;5;241m=\u001b[39m\u001b[38;5;28;01mFalse\u001b[39;00m))\n\u001b[1;32m     68\u001b[0m \u001b[38;5;28;01melse\u001b[39;00m:\n\u001b[1;32m     69\u001b[0m     quarter_table \u001b[38;5;241m=\u001b[39m preprocess_nl(pd\u001b[38;5;241m.\u001b[39mread_csv(file_name, low_memory\u001b[38;5;241m=\u001b[39m\u001b[38;5;28;01mFalse\u001b[39;00m))\n",
      "File \u001b[0;32m~/anaconda3/lib/python3.11/site-packages/pandas/io/parsers/readers.py:1024\u001b[0m, in \u001b[0;36mread_csv\u001b[0;34m(filepath_or_buffer, sep, delimiter, header, names, index_col, usecols, dtype, engine, converters, true_values, false_values, skipinitialspace, skiprows, skipfooter, nrows, na_values, keep_default_na, na_filter, verbose, skip_blank_lines, parse_dates, infer_datetime_format, keep_date_col, date_parser, date_format, dayfirst, cache_dates, iterator, chunksize, compression, thousands, decimal, lineterminator, quotechar, quoting, doublequote, escapechar, comment, encoding, encoding_errors, dialect, on_bad_lines, delim_whitespace, low_memory, memory_map, float_precision, storage_options, dtype_backend)\u001b[0m\n\u001b[1;32m   1011\u001b[0m kwds_defaults \u001b[38;5;241m=\u001b[39m _refine_defaults_read(\n\u001b[1;32m   1012\u001b[0m     dialect,\n\u001b[1;32m   1013\u001b[0m     delimiter,\n\u001b[0;32m   (...)\u001b[0m\n\u001b[1;32m   1020\u001b[0m     dtype_backend\u001b[38;5;241m=\u001b[39mdtype_backend,\n\u001b[1;32m   1021\u001b[0m )\n\u001b[1;32m   1022\u001b[0m kwds\u001b[38;5;241m.\u001b[39mupdate(kwds_defaults)\n\u001b[0;32m-> 1024\u001b[0m \u001b[38;5;28;01mreturn\u001b[39;00m _read(filepath_or_buffer, kwds)\n",
      "File \u001b[0;32m~/anaconda3/lib/python3.11/site-packages/pandas/io/parsers/readers.py:624\u001b[0m, in \u001b[0;36m_read\u001b[0;34m(filepath_or_buffer, kwds)\u001b[0m\n\u001b[1;32m    621\u001b[0m     \u001b[38;5;28;01mreturn\u001b[39;00m parser\n\u001b[1;32m    623\u001b[0m \u001b[38;5;28;01mwith\u001b[39;00m parser:\n\u001b[0;32m--> 624\u001b[0m     \u001b[38;5;28;01mreturn\u001b[39;00m parser\u001b[38;5;241m.\u001b[39mread(nrows)\n",
      "File \u001b[0;32m~/anaconda3/lib/python3.11/site-packages/pandas/io/parsers/readers.py:1921\u001b[0m, in \u001b[0;36mTextFileReader.read\u001b[0;34m(self, nrows)\u001b[0m\n\u001b[1;32m   1914\u001b[0m nrows \u001b[38;5;241m=\u001b[39m validate_integer(\u001b[38;5;124m\"\u001b[39m\u001b[38;5;124mnrows\u001b[39m\u001b[38;5;124m\"\u001b[39m, nrows)\n\u001b[1;32m   1915\u001b[0m \u001b[38;5;28;01mtry\u001b[39;00m:\n\u001b[1;32m   1916\u001b[0m     \u001b[38;5;66;03m# error: \"ParserBase\" has no attribute \"read\"\u001b[39;00m\n\u001b[1;32m   1917\u001b[0m     (\n\u001b[1;32m   1918\u001b[0m         index,\n\u001b[1;32m   1919\u001b[0m         columns,\n\u001b[1;32m   1920\u001b[0m         col_dict,\n\u001b[0;32m-> 1921\u001b[0m     ) \u001b[38;5;241m=\u001b[39m \u001b[38;5;28mself\u001b[39m\u001b[38;5;241m.\u001b[39m_engine\u001b[38;5;241m.\u001b[39mread(  \u001b[38;5;66;03m# type: ignore[attr-defined]\u001b[39;00m\n\u001b[1;32m   1922\u001b[0m         nrows\n\u001b[1;32m   1923\u001b[0m     )\n\u001b[1;32m   1924\u001b[0m \u001b[38;5;28;01mexcept\u001b[39;00m \u001b[38;5;167;01mException\u001b[39;00m:\n\u001b[1;32m   1925\u001b[0m     \u001b[38;5;28mself\u001b[39m\u001b[38;5;241m.\u001b[39mclose()\n",
      "File \u001b[0;32m~/anaconda3/lib/python3.11/site-packages/pandas/io/parsers/c_parser_wrapper.py:239\u001b[0m, in \u001b[0;36mCParserWrapper.read\u001b[0;34m(self, nrows)\u001b[0m\n\u001b[1;32m    236\u001b[0m         data \u001b[38;5;241m=\u001b[39m _concatenate_chunks(chunks)\n\u001b[1;32m    238\u001b[0m     \u001b[38;5;28;01melse\u001b[39;00m:\n\u001b[0;32m--> 239\u001b[0m         data \u001b[38;5;241m=\u001b[39m \u001b[38;5;28mself\u001b[39m\u001b[38;5;241m.\u001b[39m_reader\u001b[38;5;241m.\u001b[39mread(nrows)\n\u001b[1;32m    240\u001b[0m \u001b[38;5;28;01mexcept\u001b[39;00m \u001b[38;5;167;01mStopIteration\u001b[39;00m:\n\u001b[1;32m    241\u001b[0m     \u001b[38;5;28;01mif\u001b[39;00m \u001b[38;5;28mself\u001b[39m\u001b[38;5;241m.\u001b[39m_first_chunk:\n",
      "File \u001b[0;32mparsers.pyx:820\u001b[0m, in \u001b[0;36mpandas._libs.parsers.TextReader.read\u001b[0;34m()\u001b[0m\n",
      "File \u001b[0;32mparsers.pyx:914\u001b[0m, in \u001b[0;36mpandas._libs.parsers.TextReader._read_rows\u001b[0;34m()\u001b[0m\n",
      "File \u001b[0;32mparsers.pyx:891\u001b[0m, in \u001b[0;36mpandas._libs.parsers.TextReader._check_tokenize_status\u001b[0;34m()\u001b[0m\n",
      "File \u001b[0;32mparsers.pyx:2061\u001b[0m, in \u001b[0;36mpandas._libs.parsers.raise_parser_error\u001b[0;34m()\u001b[0m\n",
      "\u001b[0;31mParserError\u001b[0m: Error tokenizing data. C error: Calling read(nbytes) on source failed. Try engine='python'."
     ]
    }
   ],
   "source": [
    "data = pN([\"2023\"], True)\n",
    "\n",
    "print('hello')"
   ]
  },
  {
   "cell_type": "code",
   "execution_count": 18,
   "metadata": {},
   "outputs": [
    {
     "data": {
      "text/html": [
       "<div>\n",
       "<style scoped>\n",
       "    .dataframe tbody tr th:only-of-type {\n",
       "        vertical-align: middle;\n",
       "    }\n",
       "\n",
       "    .dataframe tbody tr th {\n",
       "        vertical-align: top;\n",
       "    }\n",
       "\n",
       "    .dataframe thead th {\n",
       "        text-align: right;\n",
       "    }\n",
       "</style>\n",
       "<table border=\"1\" class=\"dataframe\">\n",
       "  <thead>\n",
       "    <tr style=\"text-align: right;\">\n",
       "      <th></th>\n",
       "      <th>ORIG_RATE</th>\n",
       "      <th>ORIG_AMOUNT</th>\n",
       "      <th>ORIG_TERM</th>\n",
       "      <th>OLTV</th>\n",
       "      <th>NUM_BO</th>\n",
       "      <th>DTI</th>\n",
       "      <th>CSCORE_B</th>\n",
       "      <th>NUM_UNIT</th>\n",
       "      <th>MI_PCT</th>\n",
       "      <th>FTHB_FLAG</th>\n",
       "      <th>PUR_Cash_out</th>\n",
       "      <th>PUR_Refinance</th>\n",
       "      <th>PUR_Purchase</th>\n",
       "      <th>OCC_Principal</th>\n",
       "      <th>OCC_Second</th>\n",
       "      <th>OCC_Investor</th>\n",
       "      <th>DLQ_FLAG</th>\n",
       "    </tr>\n",
       "  </thead>\n",
       "  <tbody>\n",
       "    <tr>\n",
       "      <th>0</th>\n",
       "      <td>-0.142918</td>\n",
       "      <td>-0.653849</td>\n",
       "      <td>0.249497</td>\n",
       "      <td>-0.781997</td>\n",
       "      <td>-0.882957</td>\n",
       "      <td>-0.131782</td>\n",
       "      <td>0.920575</td>\n",
       "      <td>-0.112726</td>\n",
       "      <td>-0.737676</td>\n",
       "      <td>0</td>\n",
       "      <td>0</td>\n",
       "      <td>0</td>\n",
       "      <td>1</td>\n",
       "      <td>0</td>\n",
       "      <td>0</td>\n",
       "      <td>1</td>\n",
       "      <td>0</td>\n",
       "    </tr>\n",
       "    <tr>\n",
       "      <th>1</th>\n",
       "      <td>-0.305099</td>\n",
       "      <td>-0.904407</td>\n",
       "      <td>0.249497</td>\n",
       "      <td>-1.296984</td>\n",
       "      <td>-0.882957</td>\n",
       "      <td>0.411338</td>\n",
       "      <td>-0.299025</td>\n",
       "      <td>-0.112726</td>\n",
       "      <td>-0.737676</td>\n",
       "      <td>0</td>\n",
       "      <td>1</td>\n",
       "      <td>0</td>\n",
       "      <td>0</td>\n",
       "      <td>1</td>\n",
       "      <td>0</td>\n",
       "      <td>0</td>\n",
       "      <td>0</td>\n",
       "    </tr>\n",
       "    <tr>\n",
       "      <th>2</th>\n",
       "      <td>1.370780</td>\n",
       "      <td>-0.653849</td>\n",
       "      <td>0.249497</td>\n",
       "      <td>-0.009516</td>\n",
       "      <td>0.972183</td>\n",
       "      <td>-1.218022</td>\n",
       "      <td>0.968402</td>\n",
       "      <td>-0.112726</td>\n",
       "      <td>-0.737676</td>\n",
       "      <td>0</td>\n",
       "      <td>0</td>\n",
       "      <td>0</td>\n",
       "      <td>1</td>\n",
       "      <td>0</td>\n",
       "      <td>0</td>\n",
       "      <td>1</td>\n",
       "      <td>0</td>\n",
       "    </tr>\n",
       "    <tr>\n",
       "      <th>3</th>\n",
       "      <td>0.194961</td>\n",
       "      <td>0.228800</td>\n",
       "      <td>0.249497</td>\n",
       "      <td>0.505472</td>\n",
       "      <td>-0.882957</td>\n",
       "      <td>1.171706</td>\n",
       "      <td>0.705351</td>\n",
       "      <td>-0.112726</td>\n",
       "      <td>0.157023</td>\n",
       "      <td>1</td>\n",
       "      <td>0</td>\n",
       "      <td>0</td>\n",
       "      <td>1</td>\n",
       "      <td>1</td>\n",
       "      <td>0</td>\n",
       "      <td>0</td>\n",
       "      <td>0</td>\n",
       "    </tr>\n",
       "    <tr>\n",
       "      <th>4</th>\n",
       "      <td>0.532840</td>\n",
       "      <td>0.166160</td>\n",
       "      <td>0.249497</td>\n",
       "      <td>-1.296984</td>\n",
       "      <td>0.972183</td>\n",
       "      <td>-0.023158</td>\n",
       "      <td>-3.336067</td>\n",
       "      <td>-0.112726</td>\n",
       "      <td>-0.737676</td>\n",
       "      <td>0</td>\n",
       "      <td>0</td>\n",
       "      <td>0</td>\n",
       "      <td>1</td>\n",
       "      <td>1</td>\n",
       "      <td>0</td>\n",
       "      <td>0</td>\n",
       "      <td>1</td>\n",
       "    </tr>\n",
       "  </tbody>\n",
       "</table>\n",
       "</div>"
      ],
      "text/plain": [
       "   ORIG_RATE  ORIG_AMOUNT  ORIG_TERM      OLTV    NUM_BO       DTI  CSCORE_B  \\\n",
       "0  -0.142918    -0.653849   0.249497 -0.781997 -0.882957 -0.131782  0.920575   \n",
       "1  -0.305099    -0.904407   0.249497 -1.296984 -0.882957  0.411338 -0.299025   \n",
       "2   1.370780    -0.653849   0.249497 -0.009516  0.972183 -1.218022  0.968402   \n",
       "3   0.194961     0.228800   0.249497  0.505472 -0.882957  1.171706  0.705351   \n",
       "4   0.532840     0.166160   0.249497 -1.296984  0.972183 -0.023158 -3.336067   \n",
       "\n",
       "   NUM_UNIT    MI_PCT  FTHB_FLAG  PUR_Cash_out  PUR_Refinance  PUR_Purchase  \\\n",
       "0 -0.112726 -0.737676          0             0              0             1   \n",
       "1 -0.112726 -0.737676          0             1              0             0   \n",
       "2 -0.112726 -0.737676          0             0              0             1   \n",
       "3 -0.112726  0.157023          1             0              0             1   \n",
       "4 -0.112726 -0.737676          0             0              0             1   \n",
       "\n",
       "   OCC_Principal  OCC_Second  OCC_Investor  DLQ_FLAG  \n",
       "0              0           0             1         0  \n",
       "1              1           0             0         0  \n",
       "2              0           0             1         0  \n",
       "3              1           0             0         0  \n",
       "4              1           0             0         1  "
      ]
     },
     "execution_count": 18,
     "metadata": {},
     "output_type": "execute_result"
    }
   ],
   "source": [
    "data.head(5)"
   ]
  },
  {
   "cell_type": "code",
   "execution_count": null,
   "metadata": {},
   "outputs": [],
   "source": []
  },
  {
   "cell_type": "code",
   "execution_count": 3,
   "metadata": {},
   "outputs": [
    {
     "name": "stdout",
     "output_type": "stream",
     "text": [
      "/Users/mengyanzhu/Documents/GitHub/msf-capstone-crm/dataset/2023Q1_stat.csv\n"
     ]
    },
    {
     "name": "stderr",
     "output_type": "stream",
     "text": [
      "/Users/mengyanzhu/Documents/GitHub/msf-capstone-crm/DataPreparation/NonWoE_preparation.py:727: FutureWarning: Downcasting behavior in `replace` is deprecated and will be removed in a future version. To retain the old behavior, explicitly call `result.infer_objects(copy=False)`. To opt-in to the future behavior, set `pd.set_option('future.no_silent_downcasting', True)`\n",
      "  table['FTHB_FLAG'] = table['FTHB_FLAG'].replace({'Y': 1, 'N': 0})\n"
     ]
    },
    {
     "name": "stdout",
     "output_type": "stream",
     "text": [
      "/Users/mengyanzhu/Documents/GitHub/msf-capstone-crm/dataset/2023Q2_stat.csv\n"
     ]
    },
    {
     "name": "stderr",
     "output_type": "stream",
     "text": [
      "/Users/mengyanzhu/Documents/GitHub/msf-capstone-crm/DataPreparation/NonWoE_preparation.py:727: FutureWarning: Downcasting behavior in `replace` is deprecated and will be removed in a future version. To retain the old behavior, explicitly call `result.infer_objects(copy=False)`. To opt-in to the future behavior, set `pd.set_option('future.no_silent_downcasting', True)`\n",
      "  table['FTHB_FLAG'] = table['FTHB_FLAG'].replace({'Y': 1, 'N': 0})\n"
     ]
    },
    {
     "name": "stdout",
     "output_type": "stream",
     "text": [
      "/Users/mengyanzhu/Documents/GitHub/msf-capstone-crm/dataset/2023Q3_stat.csv\n"
     ]
    },
    {
     "name": "stderr",
     "output_type": "stream",
     "text": [
      "/Users/mengyanzhu/Documents/GitHub/msf-capstone-crm/DataPreparation/NonWoE_preparation.py:727: FutureWarning: Downcasting behavior in `replace` is deprecated and will be removed in a future version. To retain the old behavior, explicitly call `result.infer_objects(copy=False)`. To opt-in to the future behavior, set `pd.set_option('future.no_silent_downcasting', True)`\n",
      "  table['FTHB_FLAG'] = table['FTHB_FLAG'].replace({'Y': 1, 'N': 0})\n"
     ]
    },
    {
     "name": "stdout",
     "output_type": "stream",
     "text": [
      "/Users/mengyanzhu/Documents/GitHub/msf-capstone-crm/dataset/2023Q4_stat.csv\n"
     ]
    },
    {
     "name": "stderr",
     "output_type": "stream",
     "text": [
      "/Users/mengyanzhu/Documents/GitHub/msf-capstone-crm/DataPreparation/NonWoE_preparation.py:727: FutureWarning: Downcasting behavior in `replace` is deprecated and will be removed in a future version. To retain the old behavior, explicitly call `result.infer_objects(copy=False)`. To opt-in to the future behavior, set `pd.set_option('future.no_silent_downcasting', True)`\n",
      "  table['FTHB_FLAG'] = table['FTHB_FLAG'].replace({'Y': 1, 'N': 0})\n"
     ]
    },
    {
     "name": "stdout",
     "output_type": "stream",
     "text": [
      "this dataset is not labelled\n",
      "Number of rows: 970186\n",
      "Number of columns: 42\n",
      "The total number of NA is  0\n",
      "No Duplicated Loan ID\n"
     ]
    }
   ],
   "source": [
    "data2 = pN([\"2023\"], False)\n",
    "\n"
   ]
  },
  {
   "cell_type": "code",
   "execution_count": 4,
   "metadata": {},
   "outputs": [
    {
     "data": {
      "text/html": [
       "<div>\n",
       "<style scoped>\n",
       "    .dataframe tbody tr th:only-of-type {\n",
       "        vertical-align: middle;\n",
       "    }\n",
       "\n",
       "    .dataframe tbody tr th {\n",
       "        vertical-align: top;\n",
       "    }\n",
       "\n",
       "    .dataframe thead th {\n",
       "        text-align: right;\n",
       "    }\n",
       "</style>\n",
       "<table border=\"1\" class=\"dataframe\">\n",
       "  <thead>\n",
       "    <tr style=\"text-align: right;\">\n",
       "      <th></th>\n",
       "      <th>ORIG_RATE</th>\n",
       "      <th>ORIG_AMOUNT</th>\n",
       "      <th>ORIG_TERM</th>\n",
       "      <th>OLTV</th>\n",
       "      <th>NUM_BO</th>\n",
       "      <th>DTI</th>\n",
       "      <th>CSCORE_B</th>\n",
       "      <th>NUM_UNIT</th>\n",
       "      <th>MI_PCT</th>\n",
       "      <th>FTHB_FLAG</th>\n",
       "      <th>PUR_Cash_out</th>\n",
       "      <th>PUR_Refinance</th>\n",
       "      <th>PUR_Purchase</th>\n",
       "      <th>OCC_Principal</th>\n",
       "      <th>OCC_Second</th>\n",
       "      <th>OCC_Investor</th>\n",
       "    </tr>\n",
       "  </thead>\n",
       "  <tbody>\n",
       "    <tr>\n",
       "      <th>0</th>\n",
       "      <td>-0.150095</td>\n",
       "      <td>-0.652227</td>\n",
       "      <td>0.251107</td>\n",
       "      <td>-0.765342</td>\n",
       "      <td>-0.885664</td>\n",
       "      <td>-0.130603</td>\n",
       "      <td>0.911719</td>\n",
       "      <td>-0.112177</td>\n",
       "      <td>-0.730036</td>\n",
       "      <td>0</td>\n",
       "      <td>0</td>\n",
       "      <td>0</td>\n",
       "      <td>1</td>\n",
       "      <td>0</td>\n",
       "      <td>0</td>\n",
       "      <td>1</td>\n",
       "    </tr>\n",
       "    <tr>\n",
       "      <th>1</th>\n",
       "      <td>-0.312276</td>\n",
       "      <td>-0.902199</td>\n",
       "      <td>0.251107</td>\n",
       "      <td>-1.277513</td>\n",
       "      <td>-0.885664</td>\n",
       "      <td>0.411047</td>\n",
       "      <td>-0.305495</td>\n",
       "      <td>-0.112177</td>\n",
       "      <td>-0.730036</td>\n",
       "      <td>0</td>\n",
       "      <td>1</td>\n",
       "      <td>0</td>\n",
       "      <td>0</td>\n",
       "      <td>1</td>\n",
       "      <td>0</td>\n",
       "      <td>0</td>\n",
       "    </tr>\n",
       "    <tr>\n",
       "      <th>2</th>\n",
       "      <td>1.363593</td>\n",
       "      <td>-0.652227</td>\n",
       "      <td>0.251107</td>\n",
       "      <td>0.002914</td>\n",
       "      <td>0.969725</td>\n",
       "      <td>-1.213903</td>\n",
       "      <td>0.959453</td>\n",
       "      <td>-0.112177</td>\n",
       "      <td>-0.730036</td>\n",
       "      <td>0</td>\n",
       "      <td>0</td>\n",
       "      <td>0</td>\n",
       "      <td>1</td>\n",
       "      <td>0</td>\n",
       "      <td>0</td>\n",
       "      <td>1</td>\n",
       "    </tr>\n",
       "    <tr>\n",
       "      <th>3</th>\n",
       "      <td>0.187782</td>\n",
       "      <td>0.228357</td>\n",
       "      <td>0.251107</td>\n",
       "      <td>0.515085</td>\n",
       "      <td>-0.885664</td>\n",
       "      <td>1.169357</td>\n",
       "      <td>0.696916</td>\n",
       "      <td>-0.112177</td>\n",
       "      <td>0.167701</td>\n",
       "      <td>1</td>\n",
       "      <td>0</td>\n",
       "      <td>0</td>\n",
       "      <td>1</td>\n",
       "      <td>1</td>\n",
       "      <td>0</td>\n",
       "      <td>0</td>\n",
       "    </tr>\n",
       "    <tr>\n",
       "      <th>4</th>\n",
       "      <td>0.525659</td>\n",
       "      <td>0.165864</td>\n",
       "      <td>0.251107</td>\n",
       "      <td>-1.277513</td>\n",
       "      <td>0.969725</td>\n",
       "      <td>-0.022273</td>\n",
       "      <td>-3.336595</td>\n",
       "      <td>-0.112177</td>\n",
       "      <td>-0.730036</td>\n",
       "      <td>0</td>\n",
       "      <td>0</td>\n",
       "      <td>0</td>\n",
       "      <td>1</td>\n",
       "      <td>1</td>\n",
       "      <td>0</td>\n",
       "      <td>0</td>\n",
       "    </tr>\n",
       "  </tbody>\n",
       "</table>\n",
       "</div>"
      ],
      "text/plain": [
       "   ORIG_RATE  ORIG_AMOUNT  ORIG_TERM      OLTV    NUM_BO       DTI  CSCORE_B  \\\n",
       "0  -0.150095    -0.652227   0.251107 -0.765342 -0.885664 -0.130603  0.911719   \n",
       "1  -0.312276    -0.902199   0.251107 -1.277513 -0.885664  0.411047 -0.305495   \n",
       "2   1.363593    -0.652227   0.251107  0.002914  0.969725 -1.213903  0.959453   \n",
       "3   0.187782     0.228357   0.251107  0.515085 -0.885664  1.169357  0.696916   \n",
       "4   0.525659     0.165864   0.251107 -1.277513  0.969725 -0.022273 -3.336595   \n",
       "\n",
       "   NUM_UNIT    MI_PCT  FTHB_FLAG  PUR_Cash_out  PUR_Refinance  PUR_Purchase  \\\n",
       "0 -0.112177 -0.730036          0             0              0             1   \n",
       "1 -0.112177 -0.730036          0             1              0             0   \n",
       "2 -0.112177 -0.730036          0             0              0             1   \n",
       "3 -0.112177  0.167701          1             0              0             1   \n",
       "4 -0.112177 -0.730036          0             0              0             1   \n",
       "\n",
       "   OCC_Principal  OCC_Second  OCC_Investor  \n",
       "0              0           0             1  \n",
       "1              1           0             0  \n",
       "2              0           0             1  \n",
       "3              1           0             0  \n",
       "4              1           0             0  "
      ]
     },
     "execution_count": 4,
     "metadata": {},
     "output_type": "execute_result"
    }
   ],
   "source": [
    "data2.head(5)"
   ]
  },
  {
   "cell_type": "code",
   "execution_count": 6,
   "metadata": {},
   "outputs": [
    {
     "name": "stdout",
     "output_type": "stream",
     "text": [
      "/Users/mengyanzhu/Documents/GitHub/msf-capstone-crm/dataset/2023Q1_stat.csv\n"
     ]
    },
    {
     "name": "stderr",
     "output_type": "stream",
     "text": [
      "/Users/mengyanzhu/Documents/GitHub/msf-capstone-crm/DataPreparation/WoE_preparation.py:641: FutureWarning: Downcasting behavior in `replace` is deprecated and will be removed in a future version. To retain the old behavior, explicitly call `result.infer_objects(copy=False)`. To opt-in to the future behavior, set `pd.set_option('future.no_silent_downcasting', True)`\n",
      "  table['F60_DTE'] = pd.to_datetime(table['F60_DTE'])\n"
     ]
    },
    {
     "name": "stdout",
     "output_type": "stream",
     "text": [
      "/Users/mengyanzhu/Documents/GitHub/msf-capstone-crm/dataset/2023Q2_stat.csv\n"
     ]
    },
    {
     "name": "stderr",
     "output_type": "stream",
     "text": [
      "/Users/mengyanzhu/Documents/GitHub/msf-capstone-crm/DataPreparation/WoE_preparation.py:641: FutureWarning: Downcasting behavior in `replace` is deprecated and will be removed in a future version. To retain the old behavior, explicitly call `result.infer_objects(copy=False)`. To opt-in to the future behavior, set `pd.set_option('future.no_silent_downcasting', True)`\n",
      "  table['F60_DTE'] = pd.to_datetime(table['F60_DTE'])\n"
     ]
    },
    {
     "name": "stdout",
     "output_type": "stream",
     "text": [
      "/Users/mengyanzhu/Documents/GitHub/msf-capstone-crm/dataset/2023Q3_stat.csv\n"
     ]
    },
    {
     "name": "stderr",
     "output_type": "stream",
     "text": [
      "/Users/mengyanzhu/Documents/GitHub/msf-capstone-crm/DataPreparation/WoE_preparation.py:641: FutureWarning: Downcasting behavior in `replace` is deprecated and will be removed in a future version. To retain the old behavior, explicitly call `result.infer_objects(copy=False)`. To opt-in to the future behavior, set `pd.set_option('future.no_silent_downcasting', True)`\n",
      "  table['F60_DTE'] = pd.to_datetime(table['F60_DTE'])\n"
     ]
    },
    {
     "name": "stdout",
     "output_type": "stream",
     "text": [
      "/Users/mengyanzhu/Documents/GitHub/msf-capstone-crm/dataset/2023Q4_stat.csv\n"
     ]
    },
    {
     "name": "stderr",
     "output_type": "stream",
     "text": [
      "/Users/mengyanzhu/Documents/GitHub/msf-capstone-crm/DataPreparation/WoE_preparation.py:641: FutureWarning: Downcasting behavior in `replace` is deprecated and will be removed in a future version. To retain the old behavior, explicitly call `result.infer_objects(copy=False)`. To opt-in to the future behavior, set `pd.set_option('future.no_silent_downcasting', True)`\n",
      "  table['F60_DTE'] = pd.to_datetime(table['F60_DTE'])\n"
     ]
    }
   ],
   "source": [
    "data3 = pW(['2023'], True)"
   ]
  },
  {
   "cell_type": "code",
   "execution_count": 8,
   "metadata": {},
   "outputs": [
    {
     "data": {
      "text/html": [
       "<div>\n",
       "<style scoped>\n",
       "    .dataframe tbody tr th:only-of-type {\n",
       "        vertical-align: middle;\n",
       "    }\n",
       "\n",
       "    .dataframe tbody tr th {\n",
       "        vertical-align: top;\n",
       "    }\n",
       "\n",
       "    .dataframe thead th {\n",
       "        text-align: right;\n",
       "    }\n",
       "</style>\n",
       "<table border=\"1\" class=\"dataframe\">\n",
       "  <thead>\n",
       "    <tr style=\"text-align: right;\">\n",
       "      <th></th>\n",
       "      <th>LOAN_ID</th>\n",
       "      <th>ORIG_RATE</th>\n",
       "      <th>ORIG_AMOUNT</th>\n",
       "      <th>ORIG_TERM</th>\n",
       "      <th>PROP_VALUE</th>\n",
       "      <th>OLTV</th>\n",
       "      <th>NUM_BO</th>\n",
       "      <th>DTI</th>\n",
       "      <th>CSCORE_B</th>\n",
       "      <th>CSCORE_C</th>\n",
       "      <th>...</th>\n",
       "      <th>Ongoing</th>\n",
       "      <th>Current_DLQ</th>\n",
       "      <th>LAST_STAT</th>\n",
       "      <th>COMPLETE_FLAG</th>\n",
       "      <th>NET_LOSS</th>\n",
       "      <th>NET_SEV</th>\n",
       "      <th>ORIG_DTE_YR</th>\n",
       "      <th>ORIG_DTE_MONTH</th>\n",
       "      <th>FRST_DTE_YR</th>\n",
       "      <th>FRST_DTE_MONTH</th>\n",
       "    </tr>\n",
       "  </thead>\n",
       "  <tbody>\n",
       "    <tr>\n",
       "      <th>0</th>\n",
       "      <td>135176712</td>\n",
       "      <td>6.50</td>\n",
       "      <td>206000.0</td>\n",
       "      <td>360</td>\n",
       "      <td>343333.33</td>\n",
       "      <td>60.0</td>\n",
       "      <td>1</td>\n",
       "      <td>36.0</td>\n",
       "      <td>797.0</td>\n",
       "      <td>797.0</td>\n",
       "      <td>...</td>\n",
       "      <td>1</td>\n",
       "      <td>0</td>\n",
       "      <td>C</td>\n",
       "      <td>0.0</td>\n",
       "      <td>0.0</td>\n",
       "      <td>0.0</td>\n",
       "      <td>23</td>\n",
       "      <td>1</td>\n",
       "      <td>23</td>\n",
       "      <td>3</td>\n",
       "    </tr>\n",
       "    <tr>\n",
       "      <th>1</th>\n",
       "      <td>135176713</td>\n",
       "      <td>6.38</td>\n",
       "      <td>162000.0</td>\n",
       "      <td>360</td>\n",
       "      <td>324000.00</td>\n",
       "      <td>50.0</td>\n",
       "      <td>1</td>\n",
       "      <td>41.0</td>\n",
       "      <td>746.0</td>\n",
       "      <td>746.0</td>\n",
       "      <td>...</td>\n",
       "      <td>1</td>\n",
       "      <td>0</td>\n",
       "      <td>C</td>\n",
       "      <td>0.0</td>\n",
       "      <td>0.0</td>\n",
       "      <td>0.0</td>\n",
       "      <td>22</td>\n",
       "      <td>12</td>\n",
       "      <td>23</td>\n",
       "      <td>2</td>\n",
       "    </tr>\n",
       "    <tr>\n",
       "      <th>2</th>\n",
       "      <td>135176714</td>\n",
       "      <td>7.62</td>\n",
       "      <td>206000.0</td>\n",
       "      <td>360</td>\n",
       "      <td>274666.67</td>\n",
       "      <td>75.0</td>\n",
       "      <td>2</td>\n",
       "      <td>26.0</td>\n",
       "      <td>799.0</td>\n",
       "      <td>806.0</td>\n",
       "      <td>...</td>\n",
       "      <td>1</td>\n",
       "      <td>0</td>\n",
       "      <td>C</td>\n",
       "      <td>0.0</td>\n",
       "      <td>0.0</td>\n",
       "      <td>0.0</td>\n",
       "      <td>22</td>\n",
       "      <td>12</td>\n",
       "      <td>23</td>\n",
       "      <td>2</td>\n",
       "    </tr>\n",
       "    <tr>\n",
       "      <th>3</th>\n",
       "      <td>135176715</td>\n",
       "      <td>6.75</td>\n",
       "      <td>361000.0</td>\n",
       "      <td>360</td>\n",
       "      <td>424705.88</td>\n",
       "      <td>85.0</td>\n",
       "      <td>1</td>\n",
       "      <td>48.0</td>\n",
       "      <td>788.0</td>\n",
       "      <td>788.0</td>\n",
       "      <td>...</td>\n",
       "      <td>1</td>\n",
       "      <td>0</td>\n",
       "      <td>C</td>\n",
       "      <td>0.0</td>\n",
       "      <td>0.0</td>\n",
       "      <td>0.0</td>\n",
       "      <td>22</td>\n",
       "      <td>12</td>\n",
       "      <td>23</td>\n",
       "      <td>2</td>\n",
       "    </tr>\n",
       "    <tr>\n",
       "      <th>4</th>\n",
       "      <td>135176716</td>\n",
       "      <td>7.00</td>\n",
       "      <td>350000.0</td>\n",
       "      <td>360</td>\n",
       "      <td>700000.00</td>\n",
       "      <td>50.0</td>\n",
       "      <td>2</td>\n",
       "      <td>37.0</td>\n",
       "      <td>619.0</td>\n",
       "      <td>671.0</td>\n",
       "      <td>...</td>\n",
       "      <td>1</td>\n",
       "      <td>0</td>\n",
       "      <td>C</td>\n",
       "      <td>0.0</td>\n",
       "      <td>0.0</td>\n",
       "      <td>0.0</td>\n",
       "      <td>22</td>\n",
       "      <td>12</td>\n",
       "      <td>23</td>\n",
       "      <td>2</td>\n",
       "    </tr>\n",
       "  </tbody>\n",
       "</table>\n",
       "<p>5 rows × 30 columns</p>\n",
       "</div>"
      ],
      "text/plain": [
       "     LOAN_ID  ORIG_RATE  ORIG_AMOUNT  ORIG_TERM  PROP_VALUE  OLTV  NUM_BO  \\\n",
       "0  135176712       6.50     206000.0        360   343333.33  60.0       1   \n",
       "1  135176713       6.38     162000.0        360   324000.00  50.0       1   \n",
       "2  135176714       7.62     206000.0        360   274666.67  75.0       2   \n",
       "3  135176715       6.75     361000.0        360   424705.88  85.0       1   \n",
       "4  135176716       7.00     350000.0        360   700000.00  50.0       2   \n",
       "\n",
       "    DTI  CSCORE_B  CSCORE_C  ...  Ongoing Current_DLQ LAST_STAT  \\\n",
       "0  36.0     797.0     797.0  ...        1           0         C   \n",
       "1  41.0     746.0     746.0  ...        1           0         C   \n",
       "2  26.0     799.0     806.0  ...        1           0         C   \n",
       "3  48.0     788.0     788.0  ...        1           0         C   \n",
       "4  37.0     619.0     671.0  ...        1           0         C   \n",
       "\n",
       "   COMPLETE_FLAG NET_LOSS NET_SEV  ORIG_DTE_YR  ORIG_DTE_MONTH FRST_DTE_YR  \\\n",
       "0            0.0      0.0     0.0           23               1          23   \n",
       "1            0.0      0.0     0.0           22              12          23   \n",
       "2            0.0      0.0     0.0           22              12          23   \n",
       "3            0.0      0.0     0.0           22              12          23   \n",
       "4            0.0      0.0     0.0           22              12          23   \n",
       "\n",
       "   FRST_DTE_MONTH  \n",
       "0               3  \n",
       "1               2  \n",
       "2               2  \n",
       "3               2  \n",
       "4               2  \n",
       "\n",
       "[5 rows x 30 columns]"
      ]
     },
     "execution_count": 8,
     "metadata": {},
     "output_type": "execute_result"
    }
   ],
   "source": [
    "data3.head(5)"
   ]
  },
  {
   "cell_type": "code",
   "execution_count": 5,
   "metadata": {},
   "outputs": [
    {
     "name": "stdout",
     "output_type": "stream",
     "text": [
      "/Users/mengyanzhu/Documents/GitHub/msf-capstone-crm/dataset/2023Q1_stat.csv\n"
     ]
    },
    {
     "name": "stderr",
     "output_type": "stream",
     "text": [
      "/Users/mengyanzhu/Documents/GitHub/msf-capstone-crm/DataPreparation/WoE_preparation.py:691: FutureWarning: Downcasting behavior in `replace` is deprecated and will be removed in a future version. To retain the old behavior, explicitly call `result.infer_objects(copy=False)`. To opt-in to the future behavior, set `pd.set_option('future.no_silent_downcasting', True)`\n",
      "  table['FTHB_FLAG'] = table['FTHB_FLAG'].replace({'Y': 1, 'N': 0})\n"
     ]
    },
    {
     "name": "stdout",
     "output_type": "stream",
     "text": [
      "/Users/mengyanzhu/Documents/GitHub/msf-capstone-crm/dataset/2023Q2_stat.csv\n"
     ]
    },
    {
     "name": "stderr",
     "output_type": "stream",
     "text": [
      "/Users/mengyanzhu/Documents/GitHub/msf-capstone-crm/DataPreparation/WoE_preparation.py:691: FutureWarning: Downcasting behavior in `replace` is deprecated and will be removed in a future version. To retain the old behavior, explicitly call `result.infer_objects(copy=False)`. To opt-in to the future behavior, set `pd.set_option('future.no_silent_downcasting', True)`\n",
      "  table['FTHB_FLAG'] = table['FTHB_FLAG'].replace({'Y': 1, 'N': 0})\n"
     ]
    },
    {
     "name": "stdout",
     "output_type": "stream",
     "text": [
      "/Users/mengyanzhu/Documents/GitHub/msf-capstone-crm/dataset/2023Q3_stat.csv\n"
     ]
    },
    {
     "name": "stderr",
     "output_type": "stream",
     "text": [
      "/Users/mengyanzhu/Documents/GitHub/msf-capstone-crm/DataPreparation/WoE_preparation.py:691: FutureWarning: Downcasting behavior in `replace` is deprecated and will be removed in a future version. To retain the old behavior, explicitly call `result.infer_objects(copy=False)`. To opt-in to the future behavior, set `pd.set_option('future.no_silent_downcasting', True)`\n",
      "  table['FTHB_FLAG'] = table['FTHB_FLAG'].replace({'Y': 1, 'N': 0})\n"
     ]
    },
    {
     "name": "stdout",
     "output_type": "stream",
     "text": [
      "/Users/mengyanzhu/Documents/GitHub/msf-capstone-crm/dataset/2023Q4_stat.csv\n"
     ]
    },
    {
     "name": "stderr",
     "output_type": "stream",
     "text": [
      "/Users/mengyanzhu/Documents/GitHub/msf-capstone-crm/DataPreparation/WoE_preparation.py:691: FutureWarning: Downcasting behavior in `replace` is deprecated and will be removed in a future version. To retain the old behavior, explicitly call `result.infer_objects(copy=False)`. To opt-in to the future behavior, set `pd.set_option('future.no_silent_downcasting', True)`\n",
      "  table['FTHB_FLAG'] = table['FTHB_FLAG'].replace({'Y': 1, 'N': 0})\n"
     ]
    },
    {
     "ename": "UnboundLocalError",
     "evalue": "cannot access local variable 'opt_bin_data' where it is not associated with a value",
     "output_type": "error",
     "traceback": [
      "\u001b[0;31m---------------------------------------------------------------------------\u001b[0m",
      "\u001b[0;31mUnboundLocalError\u001b[0m                         Traceback (most recent call last)",
      "Cell \u001b[0;32mIn[5], line 1\u001b[0m\n\u001b[0;32m----> 1\u001b[0m data4 \u001b[38;5;241m=\u001b[39m pW([\u001b[38;5;124m'\u001b[39m\u001b[38;5;124m2023\u001b[39m\u001b[38;5;124m'\u001b[39m], \u001b[38;5;28;01mFalse\u001b[39;00m)\n",
      "File \u001b[0;32m~/Documents/GitHub/msf-capstone-crm/DataPreparation/WoE_preparation.py:65\u001b[0m, in \u001b[0;36mpreprocess_WoE\u001b[0;34m(file_years, labelled)\u001b[0m\n\u001b[1;32m     62\u001b[0m          optb\u001b[38;5;241m.\u001b[39mfit(processed_df[col], processed_df[\u001b[38;5;124m\"\u001b[39m\u001b[38;5;124mDLQ_FLAG\u001b[39m\u001b[38;5;124m\"\u001b[39m])\n\u001b[1;32m     64\u001b[0m          opt_bin_data \u001b[38;5;241m=\u001b[39m processed_df\u001b[38;5;241m.\u001b[39mcopy()\n\u001b[0;32m---> 65\u001b[0m          opt_bin_data[col] \u001b[38;5;241m=\u001b[39m optb\u001b[38;5;241m.\u001b[39mtransform(processed_df[col], metric\u001b[38;5;241m=\u001b[39m\u001b[38;5;124m\"\u001b[39m\u001b[38;5;124mwoe\u001b[39m\u001b[38;5;124m\"\u001b[39m)\n\u001b[1;32m     72\u001b[0m \u001b[38;5;66;03m#else:\u001b[39;00m\n\u001b[1;32m     73\u001b[0m     \u001b[38;5;66;03m# processed_df = processed_df_1.copy()\u001b[39;00m\n\u001b[1;32m     78\u001b[0m  \u001b[38;5;28;01mreturn\u001b[39;00m opt_bin_data\n",
      "\u001b[0;31mUnboundLocalError\u001b[0m: cannot access local variable 'opt_bin_data' where it is not associated with a value"
     ]
    }
   ],
   "source": [
    "data4 = pW(['2023'], False)"
   ]
  }
 ],
 "metadata": {
  "kernelspec": {
   "display_name": "base",
   "language": "python",
   "name": "python3"
  },
  "language_info": {
   "codemirror_mode": {
    "name": "ipython",
    "version": 3
   },
   "file_extension": ".py",
   "mimetype": "text/x-python",
   "name": "python",
   "nbconvert_exporter": "python",
   "pygments_lexer": "ipython3",
   "version": "3.11.5"
  }
 },
 "nbformat": 4,
 "nbformat_minor": 2
}
