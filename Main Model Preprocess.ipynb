{
 "cells": [
  {
   "cell_type": "code",
   "execution_count": 271,
   "id": "0e8e1071-1d48-493b-bdb8-0aaf5f4876d9",
   "metadata": {},
   "outputs": [
    {
     "ename": "ImportError",
     "evalue": "cannot import name '_MissingValues' from 'sklearn.utils._param_validation' (/Users/mengyanzhu/anaconda3/lib/python3.11/site-packages/sklearn/utils/_param_validation.py)",
     "output_type": "error",
     "traceback": [
      "\u001b[0;31m---------------------------------------------------------------------------\u001b[0m",
      "\u001b[0;31mImportError\u001b[0m                               Traceback (most recent call last)",
      "Cell \u001b[0;32mIn[271], line 18\u001b[0m\n\u001b[1;32m     16\u001b[0m \u001b[38;5;28;01mfrom\u001b[39;00m \u001b[38;5;21;01mcategory_encoders\u001b[39;00m \u001b[38;5;28;01mimport\u001b[39;00m OneHotEncoder, MEstimateEncoder, OrdinalEncoder, CatBoostEncoder\n\u001b[1;32m     17\u001b[0m \u001b[38;5;28;01mfrom\u001b[39;00m \u001b[38;5;21;01msklearn\u001b[39;00m\u001b[38;5;21;01m.\u001b[39;00m\u001b[38;5;21;01mcompose\u001b[39;00m \u001b[38;5;28;01mimport\u001b[39;00m ColumnTransformer\n\u001b[0;32m---> 18\u001b[0m \u001b[38;5;28;01mfrom\u001b[39;00m \u001b[38;5;21;01mimblearn\u001b[39;00m\u001b[38;5;21;01m.\u001b[39;00m\u001b[38;5;21;01mover_sampling\u001b[39;00m \u001b[38;5;28;01mimport\u001b[39;00m SMOTE\n\u001b[1;32m     19\u001b[0m \u001b[38;5;28;01mfrom\u001b[39;00m \u001b[38;5;21;01mimblearn\u001b[39;00m\u001b[38;5;21;01m.\u001b[39;00m\u001b[38;5;21;01mpipeline\u001b[39;00m \u001b[38;5;28;01mimport\u001b[39;00m Pipeline \u001b[38;5;28;01mas\u001b[39;00m ImbPipeline\n\u001b[1;32m     21\u001b[0m \u001b[38;5;28;01mimport\u001b[39;00m \u001b[38;5;21;01mplotly\u001b[39;00m \n",
      "File \u001b[0;32m~/anaconda3/lib/python3.11/site-packages/imblearn/__init__.py:52\u001b[0m\n\u001b[1;32m     48\u001b[0m     sys\u001b[38;5;241m.\u001b[39mstderr\u001b[38;5;241m.\u001b[39mwrite(\u001b[38;5;124m\"\u001b[39m\u001b[38;5;124mPartial import of imblearn during the build process.\u001b[39m\u001b[38;5;130;01m\\n\u001b[39;00m\u001b[38;5;124m\"\u001b[39m)\n\u001b[1;32m     49\u001b[0m     \u001b[38;5;66;03m# We are not importing the rest of scikit-learn during the build\u001b[39;00m\n\u001b[1;32m     50\u001b[0m     \u001b[38;5;66;03m# process, as it may not be compiled yet\u001b[39;00m\n\u001b[1;32m     51\u001b[0m \u001b[38;5;28;01melse\u001b[39;00m:\n\u001b[0;32m---> 52\u001b[0m     \u001b[38;5;28;01mfrom\u001b[39;00m \u001b[38;5;21;01m.\u001b[39;00m \u001b[38;5;28;01mimport\u001b[39;00m (\n\u001b[1;32m     53\u001b[0m         combine,\n\u001b[1;32m     54\u001b[0m         ensemble,\n\u001b[1;32m     55\u001b[0m         exceptions,\n\u001b[1;32m     56\u001b[0m         metrics,\n\u001b[1;32m     57\u001b[0m         over_sampling,\n\u001b[1;32m     58\u001b[0m         pipeline,\n\u001b[1;32m     59\u001b[0m         tensorflow,\n\u001b[1;32m     60\u001b[0m         under_sampling,\n\u001b[1;32m     61\u001b[0m         utils,\n\u001b[1;32m     62\u001b[0m     )\n\u001b[1;32m     63\u001b[0m     \u001b[38;5;28;01mfrom\u001b[39;00m \u001b[38;5;21;01m.\u001b[39;00m\u001b[38;5;21;01m_version\u001b[39;00m \u001b[38;5;28;01mimport\u001b[39;00m __version__\n\u001b[1;32m     64\u001b[0m     \u001b[38;5;28;01mfrom\u001b[39;00m \u001b[38;5;21;01m.\u001b[39;00m\u001b[38;5;21;01mbase\u001b[39;00m \u001b[38;5;28;01mimport\u001b[39;00m FunctionSampler\n",
      "File \u001b[0;32m~/anaconda3/lib/python3.11/site-packages/imblearn/combine/__init__.py:5\u001b[0m\n\u001b[1;32m      1\u001b[0m \u001b[38;5;124;03m\"\"\"The :mod:`imblearn.combine` provides methods which combine\u001b[39;00m\n\u001b[1;32m      2\u001b[0m \u001b[38;5;124;03mover-sampling and under-sampling.\u001b[39;00m\n\u001b[1;32m      3\u001b[0m \u001b[38;5;124;03m\"\"\"\u001b[39;00m\n\u001b[0;32m----> 5\u001b[0m \u001b[38;5;28;01mfrom\u001b[39;00m \u001b[38;5;21;01m.\u001b[39;00m\u001b[38;5;21;01m_smote_enn\u001b[39;00m \u001b[38;5;28;01mimport\u001b[39;00m SMOTEENN\n\u001b[1;32m      6\u001b[0m \u001b[38;5;28;01mfrom\u001b[39;00m \u001b[38;5;21;01m.\u001b[39;00m\u001b[38;5;21;01m_smote_tomek\u001b[39;00m \u001b[38;5;28;01mimport\u001b[39;00m SMOTETomek\n\u001b[1;32m      8\u001b[0m __all__ \u001b[38;5;241m=\u001b[39m [\u001b[38;5;124m\"\u001b[39m\u001b[38;5;124mSMOTEENN\u001b[39m\u001b[38;5;124m\"\u001b[39m, \u001b[38;5;124m\"\u001b[39m\u001b[38;5;124mSMOTETomek\u001b[39m\u001b[38;5;124m\"\u001b[39m]\n",
      "File \u001b[0;32m~/anaconda3/lib/python3.11/site-packages/imblearn/combine/_smote_enn.py:12\u001b[0m\n\u001b[1;32m      9\u001b[0m \u001b[38;5;28;01mfrom\u001b[39;00m \u001b[38;5;21;01msklearn\u001b[39;00m\u001b[38;5;21;01m.\u001b[39;00m\u001b[38;5;21;01mbase\u001b[39;00m \u001b[38;5;28;01mimport\u001b[39;00m clone\n\u001b[1;32m     10\u001b[0m \u001b[38;5;28;01mfrom\u001b[39;00m \u001b[38;5;21;01msklearn\u001b[39;00m\u001b[38;5;21;01m.\u001b[39;00m\u001b[38;5;21;01mutils\u001b[39;00m \u001b[38;5;28;01mimport\u001b[39;00m check_X_y\n\u001b[0;32m---> 12\u001b[0m \u001b[38;5;28;01mfrom\u001b[39;00m \u001b[38;5;21;01m.\u001b[39;00m\u001b[38;5;21;01m.\u001b[39;00m\u001b[38;5;21;01mbase\u001b[39;00m \u001b[38;5;28;01mimport\u001b[39;00m BaseSampler\n\u001b[1;32m     13\u001b[0m \u001b[38;5;28;01mfrom\u001b[39;00m \u001b[38;5;21;01m.\u001b[39;00m\u001b[38;5;21;01m.\u001b[39;00m\u001b[38;5;21;01mover_sampling\u001b[39;00m \u001b[38;5;28;01mimport\u001b[39;00m SMOTE\n\u001b[1;32m     14\u001b[0m \u001b[38;5;28;01mfrom\u001b[39;00m \u001b[38;5;21;01m.\u001b[39;00m\u001b[38;5;21;01m.\u001b[39;00m\u001b[38;5;21;01mover_sampling\u001b[39;00m\u001b[38;5;21;01m.\u001b[39;00m\u001b[38;5;21;01mbase\u001b[39;00m \u001b[38;5;28;01mimport\u001b[39;00m BaseOverSampler\n",
      "File \u001b[0;32m~/anaconda3/lib/python3.11/site-packages/imblearn/base.py:21\u001b[0m\n\u001b[1;32m     18\u001b[0m \u001b[38;5;28;01mfrom\u001b[39;00m \u001b[38;5;21;01msklearn\u001b[39;00m\u001b[38;5;21;01m.\u001b[39;00m\u001b[38;5;21;01mutils\u001b[39;00m\u001b[38;5;21;01m.\u001b[39;00m\u001b[38;5;21;01mmulticlass\u001b[39;00m \u001b[38;5;28;01mimport\u001b[39;00m check_classification_targets\n\u001b[1;32m     20\u001b[0m \u001b[38;5;28;01mfrom\u001b[39;00m \u001b[38;5;21;01m.\u001b[39;00m\u001b[38;5;21;01mutils\u001b[39;00m \u001b[38;5;28;01mimport\u001b[39;00m check_sampling_strategy, check_target_type\n\u001b[0;32m---> 21\u001b[0m \u001b[38;5;28;01mfrom\u001b[39;00m \u001b[38;5;21;01m.\u001b[39;00m\u001b[38;5;21;01mutils\u001b[39;00m\u001b[38;5;21;01m.\u001b[39;00m\u001b[38;5;21;01m_param_validation\u001b[39;00m \u001b[38;5;28;01mimport\u001b[39;00m validate_parameter_constraints\n\u001b[1;32m     22\u001b[0m \u001b[38;5;28;01mfrom\u001b[39;00m \u001b[38;5;21;01m.\u001b[39;00m\u001b[38;5;21;01mutils\u001b[39;00m\u001b[38;5;21;01m.\u001b[39;00m\u001b[38;5;21;01m_validation\u001b[39;00m \u001b[38;5;28;01mimport\u001b[39;00m ArraysTransformer\n\u001b[1;32m     25\u001b[0m \u001b[38;5;28;01mclass\u001b[39;00m \u001b[38;5;21;01mSamplerMixin\u001b[39;00m(BaseEstimator, metaclass\u001b[38;5;241m=\u001b[39mABCMeta):\n",
      "File \u001b[0;32m~/anaconda3/lib/python3.11/site-packages/imblearn/utils/_param_validation.py:908\u001b[0m\n\u001b[1;32m    906\u001b[0m \u001b[38;5;28;01mfrom\u001b[39;00m \u001b[38;5;21;01msklearn\u001b[39;00m\u001b[38;5;21;01m.\u001b[39;00m\u001b[38;5;21;01mutils\u001b[39;00m\u001b[38;5;21;01m.\u001b[39;00m\u001b[38;5;21;01m_param_validation\u001b[39;00m \u001b[38;5;28;01mimport\u001b[39;00m generate_valid_param  \u001b[38;5;66;03m# noqa\u001b[39;00m\n\u001b[1;32m    907\u001b[0m \u001b[38;5;28;01mfrom\u001b[39;00m \u001b[38;5;21;01msklearn\u001b[39;00m\u001b[38;5;21;01m.\u001b[39;00m\u001b[38;5;21;01mutils\u001b[39;00m\u001b[38;5;21;01m.\u001b[39;00m\u001b[38;5;21;01m_param_validation\u001b[39;00m \u001b[38;5;28;01mimport\u001b[39;00m validate_parameter_constraints  \u001b[38;5;66;03m# noqa\u001b[39;00m\n\u001b[0;32m--> 908\u001b[0m \u001b[38;5;28;01mfrom\u001b[39;00m \u001b[38;5;21;01msklearn\u001b[39;00m\u001b[38;5;21;01m.\u001b[39;00m\u001b[38;5;21;01mutils\u001b[39;00m\u001b[38;5;21;01m.\u001b[39;00m\u001b[38;5;21;01m_param_validation\u001b[39;00m \u001b[38;5;28;01mimport\u001b[39;00m (\n\u001b[1;32m    909\u001b[0m     HasMethods,\n\u001b[1;32m    910\u001b[0m     Hidden,\n\u001b[1;32m    911\u001b[0m     Interval,\n\u001b[1;32m    912\u001b[0m     Options,\n\u001b[1;32m    913\u001b[0m     StrOptions,\n\u001b[1;32m    914\u001b[0m     _ArrayLikes,\n\u001b[1;32m    915\u001b[0m     _Booleans,\n\u001b[1;32m    916\u001b[0m     _Callables,\n\u001b[1;32m    917\u001b[0m     _CVObjects,\n\u001b[1;32m    918\u001b[0m     _InstancesOf,\n\u001b[1;32m    919\u001b[0m     _IterablesNotString,\n\u001b[1;32m    920\u001b[0m     _MissingValues,\n\u001b[1;32m    921\u001b[0m     _NoneConstraint,\n\u001b[1;32m    922\u001b[0m     _PandasNAConstraint,\n\u001b[1;32m    923\u001b[0m     _RandomStates,\n\u001b[1;32m    924\u001b[0m     _SparseMatrices,\n\u001b[1;32m    925\u001b[0m     _VerboseHelper,\n\u001b[1;32m    926\u001b[0m     make_constraint,\n\u001b[1;32m    927\u001b[0m     validate_params,\n\u001b[1;32m    928\u001b[0m )\n",
      "\u001b[0;31mImportError\u001b[0m: cannot import name '_MissingValues' from 'sklearn.utils._param_validation' (/Users/mengyanzhu/anaconda3/lib/python3.11/site-packages/sklearn/utils/_param_validation.py)"
     ]
    }
   ],
   "source": [
    "import pandas as pd\n",
    "import numpy as np\n",
    "import os\n",
    "import seaborn as sns\n",
    "import matplotlib.pyplot as plt\n",
    "%matplotlib inline\n",
    "from skimpy import skim\n",
    "\n",
    "\n",
    "from xgboost import XGBClassifier\n",
    "from sklearn.model_selection import train_test_split,KFold,cross_val_score\n",
    "from sklearn.metrics import accuracy_score\n",
    "from sklearn.impute import SimpleImputer, KNNImputer\n",
    "from sklearn.pipeline import Pipeline\n",
    "from sklearn.preprocessing import FunctionTransformer, StandardScaler, LabelEncoder\n",
    "from category_encoders import OneHotEncoder, MEstimateEncoder, OrdinalEncoder, CatBoostEncoder\n",
    "from sklearn.compose import ColumnTransformer\n",
    "from imblearn.over_sampling import SMOTE\n",
    "from imblearn.pipeline import Pipeline as ImbPipeline\n",
    "\n",
    "import plotly \n",
    "import plotly.express as px\n",
    "import plotly.graph_objs as go\n",
    "import plotly.offline as py\n",
    "from plotly.offline import iplot\n",
    "from plotly.subplots import make_subplots\n",
    "import plotly.figure_factory as ff\n",
    "\n",
    "import missingno as msno\n",
    "import warnings "
   ]
  },
  {
   "cell_type": "code",
   "execution_count": 198,
   "id": "94705262",
   "metadata": {},
   "outputs": [],
   "source": [
    "#Seaborn settings for visualizations!\n",
    "rc = {\n",
    "    \"axes.facecolor\": \"#f7f9fc\",\n",
    "    \"figure.facecolor\": \"#f7f9fc\",\n",
    "    \"axes.edgecolor\": \"#000000\",\n",
    "    \"grid.color\": \"#EBEBE7\",\n",
    "    \"font.family\": \"serif\",\n",
    "    \"axes.labelcolor\": \"#000000\",\n",
    "    \"xtick.color\": \"#000000\",\n",
    "    \"ytick.color\": \"#000000\",\n",
    "    \"grid.alpha\": 0.4\n",
    "}\n",
    "\n",
    "default_palette = 'YlOrRd'\n",
    "\n",
    "sns.set(rc=rc)\n",
    "pd.set_option('display.max_columns',35)\n",
    "pd.options.display.float_format = '{:,.2f}'.format"
   ]
  },
  {
   "cell_type": "code",
   "execution_count": 199,
   "id": "a730e5fe-3f09-4dec-a297-8102643d25c2",
   "metadata": {},
   "outputs": [
    {
     "name": "stdout",
     "output_type": "stream",
     "text": [
      "Number of rows: 210810\n",
      "Number of columns: 74\n"
     ]
    }
   ],
   "source": [
    "file_name = '2023Q1_stat.csv'\n",
    "baseTable_1 = pd.read_csv(file_name, low_memory=False)\n",
    "\n",
    "n_row, n_col = baseTable_1.shape\n",
    "print(f\"Number of rows: {n_row}\")\n",
    "print(f\"Number of columns: {n_col}\")\n"
   ]
  },
  {
   "cell_type": "code",
   "execution_count": 200,
   "id": "bd931f4a",
   "metadata": {},
   "outputs": [
    {
     "name": "stdout",
     "output_type": "stream",
     "text": [
      "Number of rows: 276714\n",
      "Number of columns: 74\n"
     ]
    }
   ],
   "source": [
    "file_name = '2023Q2_stat.csv'\n",
    "baseTable_2 = pd.read_csv(file_name, low_memory=False)\n",
    "\n",
    "n_row, n_col = baseTable_2.shape\n",
    "print(f\"Number of rows: {n_row}\")\n",
    "print(f\"Number of columns: {n_col}\")"
   ]
  },
  {
   "cell_type": "code",
   "execution_count": 201,
   "id": "06664480",
   "metadata": {},
   "outputs": [],
   "source": [
    "file_name = '2023Q3_stat.csv'\n",
    "baseTable_3 = pd.read_csv(file_name, low_memory=False)\n"
   ]
  },
  {
   "cell_type": "code",
   "execution_count": 202,
   "id": "37bde811",
   "metadata": {},
   "outputs": [],
   "source": [
    "file_name = '2023Q4_stat.csv'\n",
    "baseTable_4 = pd.read_csv(file_name, low_memory=False)\n"
   ]
  },
  {
   "cell_type": "code",
   "execution_count": 203,
   "id": "26e285f5",
   "metadata": {},
   "outputs": [
    {
     "data": {
      "text/plain": [
       "(970186, 74)"
      ]
     },
     "execution_count": 203,
     "metadata": {},
     "output_type": "execute_result"
    }
   ],
   "source": [
    "\n",
    "baseTable_final = pd.concat([baseTable_1,baseTable_2,baseTable_3,baseTable_4])\n",
    "baseTable_final.shape"
   ]
  },
  {
   "cell_type": "code",
   "execution_count": 204,
   "id": "a28669b7",
   "metadata": {},
   "outputs": [],
   "source": [
    "\n",
    "baseTable_final.dropna(axis = 1, how = 'all', inplace= True)"
   ]
  },
  {
   "cell_type": "code",
   "execution_count": 205,
   "id": "de8cc3fd",
   "metadata": {},
   "outputs": [
    {
     "data": {
      "text/plain": [
       "Index(['LOAN_ID', 'ORIG_CHN', 'SELLER', 'orig_rt', 'orig_amt', 'orig_trm',\n",
       "       'oltv', 'ocltv', 'num_bo', 'dti', 'CSCORE_B', 'FTHB_FLG', 'purpose',\n",
       "       'PROP_TYP', 'NUM_UNIT', 'occ_stat', 'state', 'zip_3', 'mi_pct',\n",
       "       'CSCORE_C', 'relo_flg', 'MI_TYPE', 'AQSN_DTE', 'ORIG_DTE', 'FRST_DTE',\n",
       "       'LAST_RT', 'LAST_UPB', 'msa', 'FCC_COST', 'PP_COST', 'AR_COST',\n",
       "       'IE_COST', 'TAX_COST', 'NS_PROCS', 'CE_PROCS', 'RMW_PROCS', 'O_PROCS',\n",
       "       'repch_flag', 'LAST_ACTIVITY_DATE', 'LPI_DTE', 'FCC_DTE', 'DISP_DTE',\n",
       "       'SERVICER', 'F30_DTE', 'F60_DTE', 'F90_DTE', 'F120_DTE', 'F180_DTE',\n",
       "       'FCE_DTE', 'F180_UPB', 'FCE_UPB', 'F30_UPB', 'F60_UPB', 'F90_UPB',\n",
       "       'MOD_FLAG', 'FMOD_DTE', 'FMOD_UPB', 'MODIR_COST', 'MODFB_COST',\n",
       "       'MODFG_COST', 'MODTRM_CHNG', 'MODUPB_CHNG', 'z_num_periods_120',\n",
       "       'F120_UPB', 'CSCORE_MN', 'ORIG_VAL', 'LAST_DTE', 'LAST_STAT',\n",
       "       'COMPLT_FLG', 'INT_COST', 'PFG_COST', 'NET_LOSS', 'NET_SEV',\n",
       "       'MODTOT_COST'],\n",
       "      dtype='object')"
      ]
     },
     "execution_count": 205,
     "metadata": {},
     "output_type": "execute_result"
    }
   ],
   "source": [
    "baseTable_final.columns"
   ]
  },
  {
   "cell_type": "markdown",
   "id": "05567822",
   "metadata": {},
   "source": [
    "##### NET_LOSS=lambda x: np.round(np.where(\n",
    "                    #####   x['COMPLT_FLG'] == 1,\n",
    "                    #####   (x['LAST_UPB'] + x['FCC_COST'] + x['PP_COST'] + x['AR_COST'] + x['IE_COST'] +\n",
    "                    #####    x['TAX_COST'] + x['PFG_COST'] + x['INT_COST'] + -1 * x['NS_PROCS'] + -1 * x['CE_PROCS'] +\n",
    "                     #####   -1 * x['RMW_PROCS'] + -1 * x['O_PROCS']), np.nan), 2),"
   ]
  },
  {
   "cell_type": "markdown",
   "id": "8219aa49",
   "metadata": {},
   "source": [
    "##### msa metropolitan statistic area\n",
    "##### mi_type - mortgage insurance type - \n",
    "        # 1 = Borrower Paid\n",
    "        # 2 = Lender Paid\n",
    "        # 3 = Enterprise Paid *\n",
    "       #  Null = No MI\n",
    "##### repch_flag - Repurchase Make Whole Proceeds Flag Y/N - Amounts received by Fannie Mae under the terms of our representation and warranty arrangements for the repurchase of the mortgage loan or the subject property or loss reimbursement subsequent to property disposition \n",
    "##### fthb_flg - FIRST TIME home buyer Y/N\n",
    "##### mod flag - if the mortgage is modified Y/N\n",
    "##### PFG COST - PRINCIPAL_FORGIVENESS_AMOUNT A reduction of the UPB owed on a mortgage by a borrower that is formally agreed to by the lender and the borrower, usually in conjunction with a loan modification.\n",
    "##### mi pct - The original percentage of mortgage insurance coverage obtained for an insured conventional mortgage loan and used following the occurrence of an event of default to calculate the insurance benefit, as defined by the underlying master primary insurance policy.\n",
    "##### occ occupation status P = Principal S =  Second I =  Investor U = Unknown\n",
    "\n",
    "##### Term Change (MODTRM_CHNG) and UPB Change (MODUPB_CHNG) Fields: These fields track changes in loan terms and balances due to modifications\n",
    "\n",
    "#### z_num_periods_120' comparing the first delinquency date (F120_DTE) to the origination date \n",
    "\n",
    "#### fce ?\n",
    "#### last is current"
   ]
  },
  {
   "cell_type": "code",
   "execution_count": 206,
   "id": "940889c2",
   "metadata": {},
   "outputs": [],
   "source": [
    "baseTable_final['AQSN_DTE'] = pd.to_datetime(baseTable_final['AQSN_DTE'])\n",
    "baseTable_final['ORIG_DTE'] = pd.to_datetime(baseTable_final['ORIG_DTE'])\n",
    "baseTable_final['FRST_DTE'] = pd.to_datetime(baseTable_final['FRST_DTE'])\n",
    "baseTable_final['F30_DTE'] = pd.to_datetime(baseTable_final['F30_DTE'])\n",
    "baseTable_final['F60_DTE'] = pd.to_datetime(baseTable_final['F60_DTE'])\n",
    "baseTable_final['F90_DTE'] = pd.to_datetime(baseTable_final['F90_DTE'])\n",
    "baseTable_final['F120_DTE'] = pd.to_datetime(baseTable_final['F120_DTE'])\n",
    "baseTable_final['F180_DTE'] = pd.to_datetime(baseTable_final['F180_DTE'])\n",
    "baseTable_final['FCE_DTE'] = pd.to_datetime(baseTable_final['FCE_DTE'])\n",
    "\n",
    "baseTable_final['FCC_DTE'] = pd.to_datetime(baseTable_final['FCC_DTE'])\n",
    "baseTable_final['DISP_DTE'] = pd.to_datetime(baseTable_final['DISP_DTE'])\n",
    "\n",
    "baseTable_final = baseTable_final.rename(columns={\n",
    "    'orig_rt': 'ORIG_RATE', 'orig_amt': 'ORIG_AMOUNT', 'orig_trm': 'ORIG_TERM',\n",
    "    'ocltv': 'OCLTV', 'num_bo': 'NUM_BO', 'dti': 'DTI', 'FTHB_FLG': 'FTHB_FLAG',\n",
    "    'purpose': 'PURPOSE', 'PROP_TYP': 'PROP_TYPE', 'occ_stat': 'OCC_STAT', 'mi_pct': 'MI_PCT'\n",
    "})\n"
   ]
  },
  {
   "cell_type": "code",
   "execution_count": 207,
   "id": "45f4767e",
   "metadata": {},
   "outputs": [],
   "source": [
    "\n",
    "#delinquency flag\n",
    "filtered_df = baseTable_final.assign(dlq_flg=lambda x: np.where(pd.notna(x['F30_DTE']), 1, 0))\n",
    "\n",
    "\n"
   ]
  },
  {
   "cell_type": "code",
   "execution_count": 208,
   "id": "b14a5157",
   "metadata": {},
   "outputs": [],
   "source": [
    "baseTable = filtered_df[filtered_df['AQSN_DTE'] >= '2023-01-01']"
   ]
  },
  {
   "cell_type": "code",
   "execution_count": 209,
   "id": "4146223e",
   "metadata": {},
   "outputs": [
    {
     "data": {
      "text/plain": [
       "Index(['LOAN_ID', 'ORIG_CHN', 'SELLER', 'ORIG_RATE', 'ORIG_AMOUNT',\n",
       "       'ORIG_TERM', 'oltv', 'OCLTV', 'NUM_BO', 'DTI', 'CSCORE_B', 'FTHB_FLAG',\n",
       "       'PURPOSE', 'PROP_TYPE', 'NUM_UNIT', 'OCC_STAT', 'state', 'zip_3',\n",
       "       'MI_PCT', 'CSCORE_C', 'relo_flg', 'MI_TYPE', 'AQSN_DTE', 'ORIG_DTE',\n",
       "       'FRST_DTE', 'LAST_RT', 'LAST_UPB', 'msa', 'FCC_COST', 'PP_COST',\n",
       "       'AR_COST', 'IE_COST', 'TAX_COST', 'NS_PROCS', 'CE_PROCS', 'RMW_PROCS',\n",
       "       'O_PROCS', 'repch_flag', 'LAST_ACTIVITY_DATE', 'LPI_DTE', 'FCC_DTE',\n",
       "       'DISP_DTE', 'SERVICER', 'F30_DTE', 'F60_DTE', 'F90_DTE', 'F120_DTE',\n",
       "       'F180_DTE', 'FCE_DTE', 'F180_UPB', 'FCE_UPB', 'F30_UPB', 'F60_UPB',\n",
       "       'F90_UPB', 'MOD_FLAG', 'FMOD_DTE', 'FMOD_UPB', 'MODIR_COST',\n",
       "       'MODFB_COST', 'MODFG_COST', 'MODTRM_CHNG', 'MODUPB_CHNG',\n",
       "       'z_num_periods_120', 'F120_UPB', 'CSCORE_MN', 'ORIG_VAL', 'LAST_DTE',\n",
       "       'LAST_STAT', 'COMPLT_FLG', 'INT_COST', 'PFG_COST', 'NET_LOSS',\n",
       "       'NET_SEV', 'MODTOT_COST', 'dlq_flg'],\n",
       "      dtype='object')"
      ]
     },
     "execution_count": 209,
     "metadata": {},
     "output_type": "execute_result"
    }
   ],
   "source": [
    "baseTable.columns"
   ]
  },
  {
   "cell_type": "code",
   "execution_count": 210,
   "id": "a5579ef3",
   "metadata": {},
   "outputs": [],
   "source": [
    "model_table = baseTable.loc[:, ['ORIG_CHN', 'ORIG_RATE', 'ORIG_AMOUNT',\n",
    "       'ORIG_TERM', 'oltv', 'OCLTV', 'NUM_BO', 'DTI', 'CSCORE_B', 'FTHB_FLAG',\n",
    "       'PURPOSE', 'PROP_TYPE', 'NUM_UNIT', 'OCC_STAT', 'state', 'zip_3',\n",
    "       'MI_PCT', 'CSCORE_C', 'relo_flg', 'MI_TYPE',\n",
    "        'msa', 'dlq_flg']]"
   ]
  },
  {
   "cell_type": "markdown",
   "id": "31f3f197",
   "metadata": {},
   "source": [
    "### Delinquency flag"
   ]
  },
  {
   "cell_type": "code",
   "execution_count": 211,
   "id": "eee6f184",
   "metadata": {},
   "outputs": [
    {
     "data": {
      "text/plain": [
       "dlq_flg\n",
       "0   0.97\n",
       "1   0.03\n",
       "Name: proportion, dtype: float64"
      ]
     },
     "execution_count": 211,
     "metadata": {},
     "output_type": "execute_result"
    }
   ],
   "source": [
    "\n",
    "model_table['dlq_flg'].value_counts(normalize=True)"
   ]
  },
  {
   "cell_type": "markdown",
   "id": "fb26a148",
   "metadata": {},
   "source": [
    "### Univariate Analysis"
   ]
  },
  {
   "cell_type": "code",
   "execution_count": 212,
   "id": "982548e3",
   "metadata": {},
   "outputs": [
    {
     "data": {
      "image/png": "[encoded data removed]",
      "text/plain": [
       "<Figure size 1000x800 with 16 Axes>"
      ]
     },
     "metadata": {},
     "output_type": "display_data"
    }
   ],
   "source": [
    "\n",
    "model_table.drop('dlq_flg', axis=1).hist(figsize=(10,8));"
   ]
  },
  {
   "cell_type": "markdown",
   "id": "6ca7bbe0",
   "metadata": {},
   "source": [
    "### Bivariate Analysis and heat Map"
   ]
  },
  {
   "cell_type": "code",
   "execution_count": 213,
   "id": "a725edb7",
   "metadata": {},
   "outputs": [
    {
     "data": {
      "application/vnd.plotly.v1+json": {
       "config": {
        "plotlyServerURL": "https://plot.ly"
       },
       "data": [
        {
         "colorscale": [
          [
           0,
           "rgb(75, 41, 145)"
          ],
          [
           0.16666666666666666,
           "rgb(135, 44, 162)"
          ],
          [
           0.3333333333333333,
           "rgb(192, 54, 157)"
          ],
          [
           0.5,
           "rgb(234, 79, 136)"
          ],
          [
           0.6666666666666666,
           "rgb(250, 120, 118)"
          ],
          [
           0.8333333333333334,
           "rgb(246, 169, 122)"
          ],
          [
           1,
           "rgb(237, 217, 163)"
          ]
         ],
         "type": "heatmap",
         "x": [
          "ORIG_RATE",
          "ORIG_AMOUNT",
          "ORIG_TERM",
          "oltv",
          "OCLTV",
          "NUM_BO",
          "DTI",
          "CSCORE_B",
          "NUM_UNIT",
          "zip_3",
          "MI_PCT",
          "CSCORE_C",
          "msa",
          "dlq_flg"
         ],
         "y": [
          "ORIG_RATE",
          "ORIG_AMOUNT",
          "ORIG_TERM",
          "oltv",
          "OCLTV",
          "NUM_BO",
          "DTI",
          "CSCORE_B",
          "NUM_UNIT",
          "zip_3",
          "MI_PCT",
          "CSCORE_C",
          "msa",
          "dlq_flg"
         ],
         "z": [
          [
           1,
           -0.023150813888644917,
           0.20570052540621914,
           0.08386705460013844,
           0.0814971531875994,
           0.03585355171753784,
           0.0447369166559592,
           -0.09843140872194789,
           0.06650378950913471,
           -0.02394712634975476,
           0.027656977681418202,
           -0.0908054573721044,
           -0.039432016743737384,
           0.0038041826916399577
          ],
          [
           -0.023150813888644917,
           1,
           0.14045841239550816,
           0.2842929479213891,
           0.2827064423906417,
           0.18773266614541348,
           0.15284176858992768,
           0.118161584434243,
           0.02741402513127266,
           0.16195412345480575,
           0.025763039982440013,
           0.08940853010415657,
           0.17401451964240924,
           -0.0011287899049046372
          ],
          [
           0.20570052540621914,
           0.14045841239550816,
           1,
           0.2517231239364157,
           0.25276140378009515,
           0.0006927583393213876,
           0.12980805608233253,
           0.01309497510561684,
           0.0080327551227892,
           0.02554905502259648,
           0.1332579374453888,
           -0.0016908044629874272,
           0.027988074138019608,
           0.008526600203651946
          ],
          [
           0.08386705460013844,
           0.2842929479213891,
           0.2517231239364157,
           1,
           0.9917302122488372,
           -0.008824852213416714,
           0.1865311294334718,
           -0.015962225296763086,
           -0.034479793594972954,
           -0.0208596144452068,
           0.7812544730038449,
           -0.056542637482160756,
           -0.013460407282641775,
           0.0003469409076925695
          ],
          [
           0.0814971531875994,
           0.2827064423906417,
           0.25276140378009515,
           0.9917302122488372,
           1,
           -0.011947469221240908,
           0.18995749278361196,
           -0.020681701256350632,
           -0.03538819907586353,
           -0.0180464369032229,
           0.6478510038395345,
           -0.059684674128284314,
           -0.010239626839348705,
           0.0019295011340051175
          ],
          [
           0.03585355171753784,
           0.18773266614541348,
           0.0006927583393213876,
           -0.008824852213416714,
           -0.011947469221240908,
           1,
           -0.03781508905691812,
           0.03813261121728952,
           -0.011727653590229026,
           0.05620598739505639,
           0.056212363023562556,
           -0.049436125835645196,
           0.022388943542599116,
           -0.0334792193690792
          ],
          [
           0.0447369166559592,
           0.15284176858992768,
           0.12980805608233253,
           0.1865311294334718,
           0.18995749278361196,
           -0.03781508905691812,
           1,
           -0.11599134410561747,
           0.003351485588500091,
           0.050783460276499534,
           -0.0222556393757411,
           -0.15291879080436405,
           0.058301193130160675,
           0.02963766034604987
          ],
          [
           -0.09843140872194789,
           0.118161584434243,
           0.01309497510561684,
           -0.015962225296763086,
           -0.020681701256350632,
           0.03813261121728952,
           -0.11599134410561747,
           1,
           0.004443171310427826,
           0.02945680403612418,
           0.003241401224804062,
           0.5674335272475198,
           0.03876928528178029,
           -0.11778903423533076
          ],
          [
           0.06650378950913471,
           0.02741402513127266,
           0.0080327551227892,
           -0.034479793594972954,
           -0.03538819907586353,
           -0.011727653590229026,
           0.003351485588500091,
           0.004443171310427826,
           1,
           -0.027792767927326583,
           -0.0933760469412027,
           0.006602425810601049,
           0.014249810877941737,
           0.007410871124185967
          ],
          [
           -0.02394712634975476,
           0.16195412345480575,
           0.02554905502259648,
           -0.0208596144452068,
           -0.0180464369032229,
           0.05620598739505639,
           0.050783460276499534,
           0.02945680403612418,
           -0.027792767927326583,
           1,
           0.028915907425461303,
           0.017577658796047276,
           0.032544725265177855,
           0.005832291746977108
          ],
          [
           0.027656977681418202,
           0.025763039982440013,
           0.1332579374453888,
           0.7812544730038449,
           0.6478510038395345,
           0.056212363023562556,
           -0.0222556393757411,
           0.003241401224804062,
           -0.0933760469412027,
           0.028915907425461303,
           1,
           -0.02811848551645897,
           -0.006992131183843525,
           -0.009801126361684601
          ],
          [
           -0.0908054573721044,
           0.08940853010415657,
           -0.0016908044629874272,
           -0.056542637482160756,
           -0.059684674128284314,
           -0.049436125835645196,
           -0.15291879080436405,
           0.5674335272475198,
           0.006602425810601049,
           0.017577658796047276,
           -0.02811848551645897,
           1,
           0.02532795610035516,
           -0.08735254702777176
          ],
          [
           -0.039432016743737384,
           0.17401451964240924,
           0.027988074138019608,
           -0.013460407282641775,
           -0.010239626839348705,
           0.022388943542599116,
           0.058301193130160675,
           0.03876928528178029,
           0.014249810877941737,
           0.032544725265177855,
           -0.006992131183843525,
           0.02532795610035516,
           1,
           0.0019627341835844053
          ],
          [
           0.0038041826916399577,
           -0.0011287899049046372,
           0.008526600203651946,
           0.0003469409076925695,
           0.0019295011340051175,
           -0.0334792193690792,
           0.02963766034604987,
           -0.11778903423533076,
           0.007410871124185967,
           0.005832291746977108,
           -0.009801126361684601,
           -0.08735254702777176,
           0.0019627341835844053,
           1
          ]
         ]
        }
       ],
       "layout": {
        "template": {
         "data": {
          "bar": [
           {
            "error_x": {
             "color": "#2a3f5f"
            },
            "error_y": {
             "color": "#2a3f5f"
            },
            "marker": {
             "line": {
              "color": "#E5ECF6",
              "width": 0.5
             },
             "pattern": {
              "fillmode": "overlay",
              "size": 10,
              "solidity": 0.2
             }
            },
            "type": "bar"
           }
          ],
          "barpolar": [
           {
            "marker": {
             "line": {
              "color": "#E5ECF6",
              "width": 0.5
             },
             "pattern": {
              "fillmode": "overlay",
              "size": 10,
              "solidity": 0.2
             }
            },
            "type": "barpolar"
           }
          ],
          "carpet": [
           {
            "aaxis": {
             "endlinecolor": "#2a3f5f",
             "gridcolor": "white",
             "linecolor": "white",
             "minorgridcolor": "white",
             "startlinecolor": "#2a3f5f"
            },
            "baxis": {
             "endlinecolor": "#2a3f5f",
             "gridcolor": "white",
             "linecolor": "white",
             "minorgridcolor": "white",
             "startlinecolor": "#2a3f5f"
            },
            "type": "carpet"
           }
          ],
          "choropleth": [
           {
            "colorbar": {
             "outlinewidth": 0,
             "ticks": ""
            },
            "type": "choropleth"
           }
          ],
          "contour": [
           {
            "colorbar": {
             "outlinewidth": 0,
             "ticks": ""
            },
            "colorscale": [
             [
              0,
              "#0d0887"
             ],
             [
              0.1111111111111111,
              "#46039f"
             ],
             [
              0.2222222222222222,
              "#7201a8"
             ],
             [
              0.3333333333333333,
              "#9c179e"
             ],
             [
              0.4444444444444444,
              "#bd3786"
             ],
             [
              0.5555555555555556,
              "#d8576b"
             ],
             [
              0.6666666666666666,
              "#ed7953"
             ],
             [
              0.7777777777777778,
              "#fb9f3a"
             ],
             [
              0.8888888888888888,
              "#fdca26"
             ],
             [
              1,
              "#f0f921"
             ]
            ],
            "type": "contour"
           }
          ],
          "contourcarpet": [
           {
            "colorbar": {
             "outlinewidth": 0,
             "ticks": ""
            },
            "type": "contourcarpet"
           }
          ],
          "heatmap": [
           {
            "colorbar": {
             "outlinewidth": 0,
             "ticks": ""
            },
            "colorscale": [
             [
              0,
              "#0d0887"
             ],
             [
              0.1111111111111111,
              "#46039f"
             ],
             [
              0.2222222222222222,
              "#7201a8"
             ],
             [
              0.3333333333333333,
              "#9c179e"
             ],
             [
              0.4444444444444444,
              "#bd3786"
             ],
             [
              0.5555555555555556,
              "#d8576b"
             ],
             [
              0.6666666666666666,
              "#ed7953"
             ],
             [
              0.7777777777777778,
              "#fb9f3a"
             ],
             [
              0.8888888888888888,
              "#fdca26"
             ],
             [
              1,
              "#f0f921"
             ]
            ],
            "type": "heatmap"
           }
          ],
          "heatmapgl": [
           {
            "colorbar": {
             "outlinewidth": 0,
             "ticks": ""
            },
            "colorscale": [
             [
              0,
              "#0d0887"
             ],
             [
              0.1111111111111111,
              "#46039f"
             ],
             [
              0.2222222222222222,
              "#7201a8"
             ],
             [
              0.3333333333333333,
              "#9c179e"
             ],
             [
              0.4444444444444444,
              "#bd3786"
             ],
             [
              0.5555555555555556,
              "#d8576b"
             ],
             [
              0.6666666666666666,
              "#ed7953"
             ],
             [
              0.7777777777777778,
              "#fb9f3a"
             ],
             [
              0.8888888888888888,
              "#fdca26"
             ],
             [
              1,
              "#f0f921"
             ]
            ],
            "type": "heatmapgl"
           }
          ],
          "histogram": [
           {
            "marker": {
             "pattern": {
              "fillmode": "overlay",
              "size": 10,
              "solidity": 0.2
             }
            },
            "type": "histogram"
           }
          ],
          "histogram2d": [
           {
            "colorbar": {
             "outlinewidth": 0,
             "ticks": ""
            },
            "colorscale": [
             [
              0,
              "#0d0887"
             ],
             [
              0.1111111111111111,
              "#46039f"
             ],
             [
              0.2222222222222222,
              "#7201a8"
             ],
             [
              0.3333333333333333,
              "#9c179e"
             ],
             [
              0.4444444444444444,
              "#bd3786"
             ],
             [
              0.5555555555555556,
              "#d8576b"
             ],
             [
              0.6666666666666666,
              "#ed7953"
             ],
             [
              0.7777777777777778,
              "#fb9f3a"
             ],
             [
              0.8888888888888888,
              "#fdca26"
             ],
             [
              1,
              "#f0f921"
             ]
            ],
            "type": "histogram2d"
           }
          ],
          "histogram2dcontour": [
           {
            "colorbar": {
             "outlinewidth": 0,
             "ticks": ""
            },
            "colorscale": [
             [
              0,
              "#0d0887"
             ],
             [
              0.1111111111111111,
              "#46039f"
             ],
             [
              0.2222222222222222,
              "#7201a8"
             ],
             [
              0.3333333333333333,
              "#9c179e"
             ],
             [
              0.4444444444444444,
              "#bd3786"
             ],
             [
              0.5555555555555556,
              "#d8576b"
             ],
             [
              0.6666666666666666,
              "#ed7953"
             ],
             [
              0.7777777777777778,
              "#fb9f3a"
             ],
             [
              0.8888888888888888,
              "#fdca26"
             ],
             [
              1,
              "#f0f921"
             ]
            ],
            "type": "histogram2dcontour"
           }
          ],
          "mesh3d": [
           {
            "colorbar": {
             "outlinewidth": 0,
             "ticks": ""
            },
            "type": "mesh3d"
           }
          ],
          "parcoords": [
           {
            "line": {
             "colorbar": {
              "outlinewidth": 0,
              "ticks": ""
             }
            },
            "type": "parcoords"
           }
          ],
          "pie": [
           {
            "automargin": true,
            "type": "pie"
           }
          ],
          "scatter": [
           {
            "fillpattern": {
             "fillmode": "overlay",
             "size": 10,
             "solidity": 0.2
            },
            "type": "scatter"
           }
          ],
          "scatter3d": [
           {
            "line": {
             "colorbar": {
              "outlinewidth": 0,
              "ticks": ""
             }
            },
            "marker": {
             "colorbar": {
              "outlinewidth": 0,
              "ticks": ""
             }
            },
            "type": "scatter3d"
           }
          ],
          "scattercarpet": [
           {
            "marker": {
             "colorbar": {
              "outlinewidth": 0,
              "ticks": ""
             }
            },
            "type": "scattercarpet"
           }
          ],
          "scattergeo": [
           {
            "marker": {
             "colorbar": {
              "outlinewidth": 0,
              "ticks": ""
             }
            },
            "type": "scattergeo"
           }
          ],
          "scattergl": [
           {
            "marker": {
             "colorbar": {
              "outlinewidth": 0,
              "ticks": ""
             }
            },
            "type": "scattergl"
           }
          ],
          "scattermapbox": [
           {
            "marker": {
             "colorbar": {
              "outlinewidth": 0,
              "ticks": ""
             }
            },
            "type": "scattermapbox"
           }
          ],
          "scatterpolar": [
           {
            "marker": {
             "colorbar": {
              "outlinewidth": 0,
              "ticks": ""
             }
            },
            "type": "scatterpolar"
           }
          ],
          "scatterpolargl": [
           {
            "marker": {
             "colorbar": {
              "outlinewidth": 0,
              "ticks": ""
             }
            },
            "type": "scatterpolargl"
           }
          ],
          "scatterternary": [
           {
            "marker": {
             "colorbar": {
              "outlinewidth": 0,
              "ticks": ""
             }
            },
            "type": "scatterternary"
           }
          ],
          "surface": [
           {
            "colorbar": {
             "outlinewidth": 0,
             "ticks": ""
            },
            "colorscale": [
             [
              0,
              "#0d0887"
             ],
             [
              0.1111111111111111,
              "#46039f"
             ],
             [
              0.2222222222222222,
              "#7201a8"
             ],
             [
              0.3333333333333333,
              "#9c179e"
             ],
             [
              0.4444444444444444,
              "#bd3786"
             ],
             [
              0.5555555555555556,
              "#d8576b"
             ],
             [
              0.6666666666666666,
              "#ed7953"
             ],
             [
              0.7777777777777778,
              "#fb9f3a"
             ],
             [
              0.8888888888888888,
              "#fdca26"
             ],
             [
              1,
              "#f0f921"
             ]
            ],
            "type": "surface"
           }
          ],
          "table": [
           {
            "cells": {
             "fill": {
              "color": "#EBF0F8"
             },
             "line": {
              "color": "white"
             }
            },
            "header": {
             "fill": {
              "color": "#C8D4E3"
             },
             "line": {
              "color": "white"
             }
            },
            "type": "table"
           }
          ]
         },
         "layout": {
          "annotationdefaults": {
           "arrowcolor": "#2a3f5f",
           "arrowhead": 0,
           "arrowwidth": 1
          },
          "autotypenumbers": "strict",
          "coloraxis": {
           "colorbar": {
            "outlinewidth": 0,
            "ticks": ""
           }
          },
          "colorscale": {
           "diverging": [
            [
             0,
             "#8e0152"
            ],
            [
             0.1,
             "#c51b7d"
            ],
            [
             0.2,
             "#de77ae"
            ],
            [
             0.3,
             "#f1b6da"
            ],
            [
             0.4,
             "#fde0ef"
            ],
            [
             0.5,
             "#f7f7f7"
            ],
            [
             0.6,
             "#e6f5d0"
            ],
            [
             0.7,
             "#b8e186"
            ],
            [
             0.8,
             "#7fbc41"
            ],
            [
             0.9,
             "#4d9221"
            ],
            [
             1,
             "#276419"
            ]
           ],
           "sequential": [
            [
             0,
             "#0d0887"
            ],
            [
             0.1111111111111111,
             "#46039f"
            ],
            [
             0.2222222222222222,
             "#7201a8"
            ],
            [
             0.3333333333333333,
             "#9c179e"
            ],
            [
             0.4444444444444444,
             "#bd3786"
            ],
            [
             0.5555555555555556,
             "#d8576b"
            ],
            [
             0.6666666666666666,
             "#ed7953"
            ],
            [
             0.7777777777777778,
             "#fb9f3a"
            ],
            [
             0.8888888888888888,
             "#fdca26"
            ],
            [
             1,
             "#f0f921"
            ]
           ],
           "sequentialminus": [
            [
             0,
             "#0d0887"
            ],
            [
             0.1111111111111111,
             "#46039f"
            ],
            [
             0.2222222222222222,
             "#7201a8"
            ],
            [
             0.3333333333333333,
             "#9c179e"
            ],
            [
             0.4444444444444444,
             "#bd3786"
            ],
            [
             0.5555555555555556,
             "#d8576b"
            ],
            [
             0.6666666666666666,
             "#ed7953"
            ],
            [
             0.7777777777777778,
             "#fb9f3a"
            ],
            [
             0.8888888888888888,
             "#fdca26"
            ],
            [
             1,
             "#f0f921"
            ]
           ]
          },
          "colorway": [
           "#636efa",
           "#EF553B",
           "#00cc96",
           "#ab63fa",
           "#FFA15A",
           "#19d3f3",
           "#FF6692",
           "#B6E880",
           "#FF97FF",
           "#FECB52"
          ],
          "font": {
           "color": "#2a3f5f"
          },
          "geo": {
           "bgcolor": "white",
           "lakecolor": "white",
           "landcolor": "#E5ECF6",
           "showlakes": true,
           "showland": true,
           "subunitcolor": "white"
          },
          "hoverlabel": {
           "align": "left"
          },
          "hovermode": "closest",
          "mapbox": {
           "style": "light"
          },
          "paper_bgcolor": "white",
          "plot_bgcolor": "#E5ECF6",
          "polar": {
           "angularaxis": {
            "gridcolor": "white",
            "linecolor": "white",
            "ticks": ""
           },
           "bgcolor": "#E5ECF6",
           "radialaxis": {
            "gridcolor": "white",
            "linecolor": "white",
            "ticks": ""
           }
          },
          "scene": {
           "xaxis": {
            "backgroundcolor": "#E5ECF6",
            "gridcolor": "white",
            "gridwidth": 2,
            "linecolor": "white",
            "showbackground": true,
            "ticks": "",
            "zerolinecolor": "white"
           },
           "yaxis": {
            "backgroundcolor": "#E5ECF6",
            "gridcolor": "white",
            "gridwidth": 2,
            "linecolor": "white",
            "showbackground": true,
            "ticks": "",
            "zerolinecolor": "white"
           },
           "zaxis": {
            "backgroundcolor": "#E5ECF6",
            "gridcolor": "white",
            "gridwidth": 2,
            "linecolor": "white",
            "showbackground": true,
            "ticks": "",
            "zerolinecolor": "white"
           }
          },
          "shapedefaults": {
           "line": {
            "color": "#2a3f5f"
           }
          },
          "ternary": {
           "aaxis": {
            "gridcolor": "white",
            "linecolor": "white",
            "ticks": ""
           },
           "baxis": {
            "gridcolor": "white",
            "linecolor": "white",
            "ticks": ""
           },
           "bgcolor": "#E5ECF6",
           "caxis": {
            "gridcolor": "white",
            "linecolor": "white",
            "ticks": ""
           }
          },
          "title": {
           "x": 0.05
          },
          "xaxis": {
           "automargin": true,
           "gridcolor": "white",
           "linecolor": "white",
           "ticks": "",
           "title": {
            "standoff": 15
           },
           "zerolinecolor": "white",
           "zerolinewidth": 2
          },
          "yaxis": {
           "automargin": true,
           "gridcolor": "white",
           "linecolor": "white",
           "ticks": "",
           "title": {
            "standoff": 15
           },
           "zerolinecolor": "white",
           "zerolinewidth": 2
          }
         }
        }
       }
      }
     },
     "metadata": {},
     "output_type": "display_data"
    }
   ],
   "source": [
    "model_table.corr(method='pearson', numeric_only=True)\n",
    "fig = go.Figure(go.Heatmap(z=model_table.corr(method='pearson', numeric_only=True), x=model_table.corr(method='pearson', numeric_only=True).columns.tolist(), y=model_table.corr(method='pearson', numeric_only=True).corr().columns.tolist(), colorscale='agsunset'))\n",
    "fig.show()"
   ]
  },
  {
   "cell_type": "markdown",
   "id": "e0b70cab",
   "metadata": {},
   "source": [
    "#### split dataset"
   ]
  },
  {
   "cell_type": "code",
   "execution_count": 256,
   "id": "980d91ad",
   "metadata": {},
   "outputs": [
    {
     "name": "stdout",
     "output_type": "stream",
     "text": [
      "ORIG_CHN       category\n",
      "ORIG_RATE       float64\n",
      "ORIG_AMOUNT     float64\n",
      "ORIG_TERM         int64\n",
      "oltv            float64\n",
      "OCLTV           float64\n",
      "NUM_BO            int64\n",
      "DTI             float64\n",
      "CSCORE_B        float64\n",
      "FTHB_FLAG      category\n",
      "PURPOSE        category\n",
      "PROP_TYPE      category\n",
      "NUM_UNIT          int64\n",
      "OCC_STAT       category\n",
      "state          category\n",
      "zip_3             int64\n",
      "MI_PCT          float64\n",
      "CSCORE_C        float64\n",
      "relo_flg       category\n",
      "MI_TYPE        category\n",
      "msa               int64\n",
      "dtype: object\n"
     ]
    }
   ],
   "source": [
    "X = model_table.drop('dlq_flg', axis=1)\n",
    "y = model_table['dlq_flg']\n",
    "\n",
    "TARGET = 'dlq_flg'\n",
    "NUMERIC_COLS = [f for f in X._get_numeric_data().columns if f!= TARGET]\n",
    "CAT_COLS     = list(X.drop(NUMERIC_COLS, axis = 1))\n",
    "for col in CAT_COLS:\n",
    "    X[col] = X[col].astype('category')\n",
    "\n",
    "print(X.dtypes)\n",
    "\n",
    "\n",
    "\n",
    "X_train, X_test, y_train, y_test = train_test_split(X, y, test_size=0.3,random_state=42)\n"
   ]
  },
  {
   "cell_type": "code",
   "execution_count": 257,
   "id": "21e9a14d",
   "metadata": {},
   "outputs": [
    {
     "data": {
      "text/html": [
       "<div>\n",
       "<style scoped>\n",
       "    .dataframe tbody tr th:only-of-type {\n",
       "        vertical-align: middle;\n",
       "    }\n",
       "\n",
       "    .dataframe tbody tr th {\n",
       "        vertical-align: top;\n",
       "    }\n",
       "\n",
       "    .dataframe thead th {\n",
       "        text-align: right;\n",
       "    }\n",
       "</style>\n",
       "<table border=\"1\" class=\"dataframe\">\n",
       "  <thead>\n",
       "    <tr style=\"text-align: right;\">\n",
       "      <th></th>\n",
       "      <th>ORIG_CHN</th>\n",
       "      <th>ORIG_RATE</th>\n",
       "      <th>ORIG_AMOUNT</th>\n",
       "      <th>ORIG_TERM</th>\n",
       "      <th>oltv</th>\n",
       "      <th>OCLTV</th>\n",
       "      <th>NUM_BO</th>\n",
       "      <th>DTI</th>\n",
       "      <th>CSCORE_B</th>\n",
       "      <th>FTHB_FLAG</th>\n",
       "      <th>PURPOSE</th>\n",
       "      <th>PROP_TYPE</th>\n",
       "      <th>NUM_UNIT</th>\n",
       "      <th>OCC_STAT</th>\n",
       "      <th>state</th>\n",
       "      <th>zip_3</th>\n",
       "      <th>MI_PCT</th>\n",
       "      <th>CSCORE_C</th>\n",
       "      <th>relo_flg</th>\n",
       "      <th>MI_TYPE</th>\n",
       "      <th>msa</th>\n",
       "    </tr>\n",
       "  </thead>\n",
       "  <tbody>\n",
       "    <tr>\n",
       "      <th>61721</th>\n",
       "      <td>R</td>\n",
       "      <td>5.99</td>\n",
       "      <td>523,000.00</td>\n",
       "      <td>360</td>\n",
       "      <td>95.00</td>\n",
       "      <td>95.00</td>\n",
       "      <td>2</td>\n",
       "      <td>41.00</td>\n",
       "      <td>688.00</td>\n",
       "      <td>Y</td>\n",
       "      <td>P</td>\n",
       "      <td>SF</td>\n",
       "      <td>1</td>\n",
       "      <td>P</td>\n",
       "      <td>CT</td>\n",
       "      <td>63</td>\n",
       "      <td>30.00</td>\n",
       "      <td>721.00</td>\n",
       "      <td>N</td>\n",
       "      <td>BPMI</td>\n",
       "      <td>35980</td>\n",
       "    </tr>\n",
       "  </tbody>\n",
       "</table>\n",
       "</div>"
      ],
      "text/plain": [
       "      ORIG_CHN  ORIG_RATE  ORIG_AMOUNT  ORIG_TERM  oltv  OCLTV  NUM_BO   DTI  \\\n",
       "61721        R       5.99   523,000.00        360 95.00  95.00       2 41.00   \n",
       "\n",
       "       CSCORE_B FTHB_FLAG PURPOSE PROP_TYPE  NUM_UNIT OCC_STAT state  zip_3  \\\n",
       "61721    688.00         Y       P        SF         1        P    CT     63   \n",
       "\n",
       "       MI_PCT  CSCORE_C relo_flg MI_TYPE    msa  \n",
       "61721   30.00    721.00        N    BPMI  35980  "
      ]
     },
     "execution_count": 257,
     "metadata": {},
     "output_type": "execute_result"
    }
   ],
   "source": [
    "X_train.head(1)\n"
   ]
  },
  {
   "cell_type": "markdown",
   "id": "d607c6e9",
   "metadata": {},
   "source": [
    "#### Missing Values"
   ]
  },
  {
   "cell_type": "code",
   "execution_count": 216,
   "id": "207f2432",
   "metadata": {},
   "outputs": [
    {
     "data": {
      "image/png": "[encoded data removed]",
      "text/plain": [
       "<Figure size 2500x1000 with 3 Axes>"
      ]
     },
     "metadata": {},
     "output_type": "display_data"
    }
   ],
   "source": [
    "msno.bar(model_table)"
   ]
  },
  {
   "cell_type": "markdown",
   "id": "3117640c",
   "metadata": {},
   "source": [
    "#### Here use median for missing values as data is skewed"
   ]
  },
  {
   "cell_type": "code",
   "execution_count": 258,
   "id": "5f2ff04a",
   "metadata": {},
   "outputs": [],
   "source": [
    "def NullFill(df):\n",
    "    x_copy =df.copy()\n",
    "    for c in CAT_COLS:                       \n",
    "        x_copy[c] = x_copy[c].infer_objects(copy=False).fillna('None')\n",
    "    \n",
    "    for c in NUMERIC_COLS:\n",
    "        x_copy[c] = x_copy[c].infer_objects(copy=False).fillna(x_copy[c].median())\n",
    "                \n",
    "        \n",
    "    return x_copy\n",
    "\n",
    "NullImputer = FunctionTransformer(NullFill)"
   ]
  },
  {
   "cell_type": "code",
   "execution_count": 259,
   "id": "809d9a56",
   "metadata": {},
   "outputs": [],
   "source": [
    "X_train['CSCORE_C'] = X_train['CSCORE_C'].fillna(X_train['CSCORE_B'])"
   ]
  },
  {
   "cell_type": "markdown",
   "id": "3477e6b0",
   "metadata": {},
   "source": [
    "#### One hot encoder"
   ]
  },
  {
   "cell_type": "code",
   "execution_count": 260,
   "id": "43cbd0b5",
   "metadata": {},
   "outputs": [],
   "source": [
    "preprocessor = ColumnTransformer(\n",
    "    transformers=[\n",
    "        ('cat', OneHotEncoder(), CAT_COLS),\n",
    "          ('num', 'passthrough', NUMERIC_COLS)\n",
    "    ],\n",
    "     # Drop non-specified columns\n",
    ")\n"
   ]
  },
  {
   "cell_type": "code",
   "execution_count": 261,
   "id": "c236b848",
   "metadata": {},
   "outputs": [
    {
     "name": "stdout",
     "output_type": "stream",
     "text": [
      "ORIG_CHN       category\n",
      "ORIG_RATE       float64\n",
      "ORIG_AMOUNT     float64\n",
      "ORIG_TERM         int64\n",
      "oltv            float64\n",
      "OCLTV           float64\n",
      "NUM_BO            int64\n",
      "DTI             float64\n",
      "CSCORE_B        float64\n",
      "FTHB_FLAG      category\n",
      "PURPOSE        category\n",
      "PROP_TYPE      category\n",
      "NUM_UNIT          int64\n",
      "OCC_STAT       category\n",
      "state          category\n",
      "zip_3             int64\n",
      "MI_PCT          float64\n",
      "CSCORE_C        float64\n",
      "relo_flg       category\n",
      "MI_TYPE        category\n",
      "msa               int64\n",
      "dtype: object\n",
      "ORIG_CHN       category\n",
      "ORIG_RATE       float64\n",
      "ORIG_AMOUNT     float64\n",
      "ORIG_TERM         int64\n",
      "oltv            float64\n",
      "OCLTV           float64\n",
      "NUM_BO            int64\n",
      "DTI             float64\n",
      "CSCORE_B        float64\n",
      "FTHB_FLAG      category\n",
      "PURPOSE        category\n",
      "PROP_TYPE      category\n",
      "NUM_UNIT          int64\n",
      "OCC_STAT       category\n",
      "state          category\n",
      "zip_3             int64\n",
      "MI_PCT          float64\n",
      "CSCORE_C        float64\n",
      "relo_flg       category\n",
      "MI_TYPE        category\n",
      "msa               int64\n",
      "dtype: object\n",
      "ORIG_CHN            0\n",
      "ORIG_RATE           0\n",
      "ORIG_AMOUNT         0\n",
      "ORIG_TERM           0\n",
      "oltv                0\n",
      "OCLTV               0\n",
      "NUM_BO              0\n",
      "DTI                32\n",
      "CSCORE_B         1095\n",
      "FTHB_FLAG           0\n",
      "PURPOSE             0\n",
      "PROP_TYPE           0\n",
      "NUM_UNIT            0\n",
      "OCC_STAT            0\n",
      "state               0\n",
      "zip_3               0\n",
      "MI_PCT         429612\n",
      "CSCORE_C          687\n",
      "relo_flg            0\n",
      "MI_TYPE        429612\n",
      "msa                 0\n",
      "dtype: int64\n",
      "ORIG_CHN            0\n",
      "ORIG_RATE           0\n",
      "ORIG_AMOUNT         0\n",
      "ORIG_TERM           0\n",
      "oltv                0\n",
      "OCLTV               0\n",
      "NUM_BO              0\n",
      "DTI                 5\n",
      "CSCORE_B          457\n",
      "FTHB_FLAG           0\n",
      "PURPOSE             0\n",
      "PROP_TYPE           0\n",
      "NUM_UNIT            0\n",
      "OCC_STAT            0\n",
      "state               0\n",
      "zip_3               0\n",
      "MI_PCT         184005\n",
      "CSCORE_C       158463\n",
      "relo_flg            0\n",
      "MI_TYPE        184005\n",
      "msa                 0\n",
      "dtype: int64\n"
     ]
    }
   ],
   "source": [
    "print(X_train.dtypes)\n",
    "print(X_test.dtypes)\n",
    "print(X_train.isnull().sum())\n",
    "print(X_test.isnull().sum())"
   ]
  },
  {
   "cell_type": "code",
   "execution_count": 272,
   "id": "16a06a7d",
   "metadata": {},
   "outputs": [
    {
     "ename": "NameError",
     "evalue": "name 'ImbPipeline' is not defined",
     "output_type": "error",
     "traceback": [
      "\u001b[0;31m---------------------------------------------------------------------------\u001b[0m",
      "\u001b[0;31mNameError\u001b[0m                                 Traceback (most recent call last)",
      "Cell \u001b[0;32mIn[272], line 3\u001b[0m\n\u001b[1;32m      1\u001b[0m model \u001b[38;5;241m=\u001b[39m XGBClassifier(enable_categorical\u001b[38;5;241m=\u001b[39m\u001b[38;5;28;01mTrue\u001b[39;00m, eval_metric\u001b[38;5;241m=\u001b[39m\u001b[38;5;124m'\u001b[39m\u001b[38;5;124mlogloss\u001b[39m\u001b[38;5;124m'\u001b[39m)\n\u001b[0;32m----> 3\u001b[0m pipeline \u001b[38;5;241m=\u001b[39m ImbPipeline(steps\u001b[38;5;241m=\u001b[39m[(\u001b[38;5;124m'\u001b[39m\u001b[38;5;124msmote\u001b[39m\u001b[38;5;124m'\u001b[39m, SMOTE()), (\u001b[38;5;124m'\u001b[39m\u001b[38;5;124mimputer\u001b[39m\u001b[38;5;124m'\u001b[39m, NullImputer),\n\u001b[1;32m      4\u001b[0m                        (\u001b[38;5;124m'\u001b[39m\u001b[38;5;124mencode\u001b[39m\u001b[38;5;124m'\u001b[39m,preprocessor), \n\u001b[1;32m      5\u001b[0m                         (\u001b[38;5;124m'\u001b[39m\u001b[38;5;124mscaler\u001b[39m\u001b[38;5;124m'\u001b[39m, StandardScaler()), (\u001b[38;5;124m'\u001b[39m\u001b[38;5;124mmodel\u001b[39m\u001b[38;5;124m'\u001b[39m, model)])\n",
      "\u001b[0;31mNameError\u001b[0m: name 'ImbPipeline' is not defined"
     ]
    }
   ],
   "source": [
    "model = XGBClassifier(enable_categorical=True, eval_metric='logloss')\n",
    "\n",
    "pipeline = ImbPipeline(steps=[('smote', SMOTE()), ('imputer', NullImputer),\n",
    "                       ('encode',preprocessor), \n",
    "                        ('scaler', StandardScaler()), ('model', model)])\n",
    "\n"
   ]
  },
  {
   "cell_type": "code",
   "execution_count": 268,
   "id": "c93cb17a",
   "metadata": {},
   "outputs": [
    {
     "name": "stdout",
     "output_type": "stream",
     "text": [
      "Accuracy: Results Mean : %97.014, Results Standard Deviation : 0.037\n"
     ]
    }
   ],
   "source": [
    "kfold = KFold(n_splits=10, random_state=42,shuffle= True)\n",
    "results = cross_val_score(model, X, y, cv=kfold)\n",
    "print(f'Accuracy: Results Mean : %{round(results.mean()*100,3)}, Results Standard Deviation : {round(results.std()*100,3)}')"
   ]
  }
 ],
 "metadata": {
  "kernelspec": {
   "display_name": "base",
   "language": "python",
   "name": "python3"
  },
  "language_info": {
   "codemirror_mode": {
    "name": "ipython",
    "version": 3
   },
   "file_extension": ".py",
   "mimetype": "text/x-python",
   "name": "python",
   "nbconvert_exporter": "python",
   "pygments_lexer": "ipython3",
   "version": "3.11.5"
  }
 },
 "nbformat": 4,
 "nbformat_minor": 5
}
